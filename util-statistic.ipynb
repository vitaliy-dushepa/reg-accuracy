{
 "cells": [
  {
   "cell_type": "code",
   "execution_count": 1,
   "id": "2e7f53df",
   "metadata": {
    "_cell_guid": "b1076dfc-b9ad-4769-8c92-a6c4dae69d19",
    "_uuid": "8f2839f25d086af736a60e9eeb907d3b93b6e0e5",
    "execution": {
     "iopub.execute_input": "2023-08-26T13:03:22.441344Z",
     "iopub.status.busy": "2023-08-26T13:03:22.440907Z",
     "iopub.status.idle": "2023-08-26T13:03:22.445816Z",
     "shell.execute_reply": "2023-08-26T13:03:22.444988Z"
    },
    "papermill": {
     "duration": 0.011302,
     "end_time": "2023-08-26T13:03:22.447635",
     "exception": false,
     "start_time": "2023-08-26T13:03:22.436333",
     "status": "completed"
    },
    "tags": []
   },
   "outputs": [],
   "source": [
    "# Utility script"
   ]
  },
  {
   "cell_type": "markdown",
   "id": "aaa53cae",
   "metadata": {
    "papermill": {
     "duration": 0.001903,
     "end_time": "2023-08-26T13:03:22.451975",
     "exception": false,
     "start_time": "2023-08-26T13:03:22.450072",
     "status": "completed"
    },
    "tags": []
   },
   "source": [
    "# statistic"
   ]
  },
  {
   "cell_type": "code",
   "execution_count": 2,
   "id": "0b581a9b",
   "metadata": {
    "execution": {
     "iopub.execute_input": "2023-08-26T13:03:22.458009Z",
     "iopub.status.busy": "2023-08-26T13:03:22.457378Z",
     "iopub.status.idle": "2023-08-26T13:03:22.671698Z",
     "shell.execute_reply": "2023-08-26T13:03:22.670701Z"
    },
    "papermill": {
     "duration": 0.220445,
     "end_time": "2023-08-26T13:03:22.674477",
     "exception": false,
     "start_time": "2023-08-26T13:03:22.454032",
     "status": "completed"
    },
    "tags": []
   },
   "outputs": [],
   "source": [
    "import numpy as np\n",
    "import cv2\n",
    "from math import sqrt, atan2, pi"
   ]
  },
  {
   "cell_type": "code",
   "execution_count": 3,
   "id": "94e83988",
   "metadata": {
    "execution": {
     "iopub.execute_input": "2023-08-26T13:03:22.680778Z",
     "iopub.status.busy": "2023-08-26T13:03:22.680369Z",
     "iopub.status.idle": "2023-08-26T13:03:24.517174Z",
     "shell.execute_reply": "2023-08-26T13:03:24.516336Z"
    },
    "papermill": {
     "duration": 1.842601,
     "end_time": "2023-08-26T13:03:24.519494",
     "exception": false,
     "start_time": "2023-08-26T13:03:22.676893",
     "status": "completed"
    },
    "tags": []
   },
   "outputs": [
    {
     "name": "stderr",
     "output_type": "stream",
     "text": [
      "/opt/conda/lib/python3.10/site-packages/scipy/__init__.py:146: UserWarning: A NumPy version >=1.16.5 and <1.23.0 is required for this version of SciPy (detected version 1.23.5\n",
      "  warnings.warn(f\"A NumPy version >={np_minversion} and <{np_maxversion}\"\n"
     ]
    }
   ],
   "source": [
    "from util_registration import transf_2stage_estim"
   ]
  },
  {
   "cell_type": "code",
   "execution_count": 4,
   "id": "1a51831c",
   "metadata": {
    "execution": {
     "iopub.execute_input": "2023-08-26T13:03:24.525915Z",
     "iopub.status.busy": "2023-08-26T13:03:24.525227Z",
     "iopub.status.idle": "2023-08-26T13:03:24.531897Z",
     "shell.execute_reply": "2023-08-26T13:03:24.531218Z"
    },
    "papermill": {
     "duration": 0.011526,
     "end_time": "2023-08-26T13:03:24.533613",
     "exception": false,
     "start_time": "2023-08-26T13:03:24.522087",
     "status": "completed"
    },
    "tags": []
   },
   "outputs": [],
   "source": [
    "def outlier_remove(par4_tuple,bound4_tuple):\n",
    "    '''\n",
    "    Check four (error) arrays to be within specified boundaries (by absolute value).\n",
    "    Input:\n",
    "        par4_tuple - tuple of 4 arrays (of equal length);\n",
    "        bound4_tuple - tuple of 4 boundaries (scalars).\n",
    "    Output:\n",
    "        good_par4__tuple - tuple of 4 arrays with only \"good indexes\" elements\n",
    "    \t\t(\"good indexes\" - when for current index all 4 elements within the relevant boundaries);\n",
    "        indexes - \"good indexes\".\n",
    "    '''\n",
    "    sh_x_bound, sh_y_bound, sc_bound, rot_bound = bound4_tuple\n",
    "    sh_x, sh_y, sc, rot = par4_tuple\n",
    "    \n",
    "    is_good = ( np.abs(sh_x) < sh_x_bound ) * \\\n",
    "              ( np.abs(sh_y) < sh_y_bound ) * \\\n",
    "              ( np.abs(sc)   < sc_bound ) * \\\n",
    "              ( np.abs(rot)  < rot_bound )\n",
    "    is_good = is_good.astype(bool)\n",
    "    \n",
    "    good__sh_x = sh_x[is_good]\n",
    "    good__sh_y = sh_y[is_good]\n",
    "    good__sc = sc[is_good]\n",
    "    good__rot = rot[is_good]\n",
    "    good_par4__tuple = (good__sh_x, good__sh_y,\n",
    "                        good__sc, good__rot)\n",
    "    \n",
    "    indexes = is_good.nonzero()\n",
    "    # indexes - tuple with one ndarray \n",
    "    \n",
    "    return good_par4__tuple, indexes[0]"
   ]
  },
  {
   "cell_type": "code",
   "execution_count": 5,
   "id": "4153349c",
   "metadata": {
    "execution": {
     "iopub.execute_input": "2023-08-26T13:03:24.539570Z",
     "iopub.status.busy": "2023-08-26T13:03:24.539118Z",
     "iopub.status.idle": "2023-08-26T13:03:24.553957Z",
     "shell.execute_reply": "2023-08-26T13:03:24.552940Z"
    },
    "papermill": {
     "duration": 0.02017,
     "end_time": "2023-08-26T13:03:24.556039",
     "exception": false,
     "start_time": "2023-08-26T13:03:24.535869",
     "status": "completed"
    },
    "tags": []
   },
   "outputs": [],
   "source": [
    "def monteCarlo_reg(ri,ci_clean,\n",
    "                   gt_true,\n",
    "                   snr,nTest):   \n",
    "    '''\n",
    "    Evaluate registration RMSE for 4 parameters by monte-carlo:\n",
    "        snr == CONSTANT;\n",
    "        averaging over ONE fragment (with different noise realizations).\n",
    "    \n",
    "    Inputs:\n",
    "        ri - referense image;\n",
    "        ci_clean - current image without noise;\n",
    "        gt_true - true geometric transformation: (center_x, center_y, scale, rot),\n",
    "                                    rot in degrees;\n",
    "        snr -  signal noise ratio (not dB, by standard deviation ratio);\n",
    "        nTest - number of monte-carlo tests.\n",
    "    \n",
    "    Output:\n",
    "        Stat_ - dict for estimated charasteristics: RMSE (for 4 parameters) and P (correct registration probability),\n",
    "            RMSE evaluated only for correct registrations (errors within adjusted bounds)\n",
    "            [the above characteristics evaluated for (1) (with suffix \"__kp\") and \n",
    "                                                     (2) (with suffix \"__ncc\") steps];\n",
    "        err_kp - errors from 1st step (feature-based registration);\n",
    "        err_ncc - errors from 2nd step [ (1) feature-based registration + (2) NCC optimization].\n",
    "        \n",
    "    Comments:\n",
    "        ci_clean must be squared.              # XXX - Attension.\n",
    "        ri must be bigger than ci_clean.  \n",
    "    '''\n",
    "    \n",
    "    \n",
    "    # Bounds on errors.\n",
    "    sh_b = 2\n",
    "    sc_b = 0.05\n",
    "    rot_b = 5\n",
    "    bound4_tuple = (sh_b, sh_b, sc_b, rot_b)\n",
    "    \n",
    "    ci_s = ci_clean.shape[0]\n",
    "    \n",
    "    \n",
    "    #%% Monte-Carlo ----------------\n",
    "    err_kp = np.zeros( (nTest,4) )\n",
    "    err_ncc = np.zeros( (nTest,4) )\n",
    "    \n",
    "    ci_E = np.std(ci_clean)\n",
    "    \n",
    "    \n",
    "    # Compute kp (keypoint coordinates) and des (descriptors) for RI (evaluated once for all iterations).\n",
    "    #    XXX - The choise of detector (and descriptor) here should be match with \n",
    "    #          corresponding item in function keypoint_estim.\n",
    "    kp_type = 'sift'\n",
    "    if kp_type == 'sift':\n",
    "        # kp_obj = cv2.xfeatures2d.SIFT_create()\n",
    "        kp_obj = cv2.SIFT_create()\n",
    "    elif kp_type == 'kaze':\n",
    "        kp_obj = cv2.KAZE_create()\n",
    "    elif kp_type == 'akaze':\n",
    "        kp_obj = cv2.AKAZE_create()\n",
    "    else:\n",
    "        raise ValueError('Wrong value for kp_obj')\n",
    "    \n",
    "    \n",
    "    \n",
    "    ri_scaled = cv2.normalize(ri, None, alpha=0, beta=255, \n",
    "                              norm_type=cv2.NORM_MINMAX, dtype=cv2.CV_8U)\n",
    "    ri_kp, ri_des = kp_obj.detectAndCompute(ri_scaled, None) \n",
    "    ri_kp_des = (ri_kp, ri_des)\n",
    "    \n",
    "\n",
    "    for k in range(nTest):\n",
    "        noise_SD = ci_E/snr\n",
    "        ci = ci_clean + np.random.normal(0,noise_SD, (ci_s,ci_s) )\n",
    "        \n",
    "        # Estimation (without bootstrap).\n",
    "        # (gt_kp, gt_ncc) = transf_2stage_estim(ri,ci,ri_kp_des = ri_kp_des)\n",
    "        #\n",
    "        # XXX - speed-up mode (when true_gt_tuple is defined): \n",
    "        #       if 1st registration step estimates bad - we don't evaluate 2nd step;\n",
    "        #       (in real situation we don't know how bad or not 1st step estimates)\n",
    "        (gt_kp, gt_ncc) = transf_2stage_estim(ri,ci,ri_kp_des = ri_kp_des,\n",
    "                                              true_gt_tuple = gt_true)  \n",
    "        \n",
    "        \n",
    "        err_kp[k,:] = np.array(gt_kp) - np.array(gt_true)\n",
    "        err_ncc[k,:] = np.array(gt_ncc) - np.array(gt_true)\n",
    "    #----------------------------------------\n",
    "    \n",
    "    \n",
    "    \n",
    "    \n",
    "    #%% Use criterion for corect registration (to select correct registrations errors).\n",
    "    kp_err4_tuple = (err_kp[:,0],\n",
    "                     err_kp[:,1],\n",
    "                     err_kp[:,2],\n",
    "                     err_kp[:,3])\n",
    "    (good_kp_err4_tuple,\n",
    "     _)                = outlier_remove(kp_err4_tuple,\n",
    "                                        bound4_tuple)\n",
    "                                        \n",
    "    ncc_err4_tuple = (err_ncc[:,0],\n",
    "                      err_ncc[:,1],\n",
    "                      err_ncc[:,2],\n",
    "                      err_ncc[:,3])                                \n",
    "    (good_ncc_err4_tuple,\n",
    "     _)                = outlier_remove(ncc_err4_tuple,\n",
    "                                        bound4_tuple)                                \n",
    "\n",
    "\n",
    "    \n",
    "    (err_x__kp, err_y__kp, err_sc__kp, err_rot__kp) = good_kp_err4_tuple\n",
    "    (err_x__ncc, err_y__ncc, err_sc__ncc, err_rot__ncc) = good_ncc_err4_tuple\n",
    "    \n",
    "\n",
    "    #%%\n",
    "    Stat_ = {}\n",
    "    Stat_['rmse_x__kp'] = np.sqrt( np.mean(err_x__kp**2) )\n",
    "    Stat_['rmse_y__kp'] = np.sqrt( np.mean(err_y__kp**2) )\n",
    "    Stat_['rmse_sc__kp'] = np.sqrt( np.mean(err_sc__kp**2) )\n",
    "    Stat_['rmse_rot__kp'] = np.sqrt( np.mean(err_rot__kp**2) )\n",
    "    \n",
    "    Stat_['rmse_x__ncc'] = np.sqrt( np.mean(err_x__ncc**2) )\n",
    "    Stat_['rmse_y__ncc'] = np.sqrt( np.mean(err_y__ncc**2) )\n",
    "    Stat_['rmse_sc__ncc'] = np.sqrt( np.mean(err_sc__ncc**2) )\n",
    "    Stat_['rmse_rot__ncc'] = np.sqrt( np.mean(err_rot__ncc**2) )\n",
    "    \n",
    "    Stat_['P__kp'] = np.size(err_x__kp) / nTest\n",
    "    Stat_['P__ncc'] = np.size(err_x__ncc) / nTest\n",
    "    \n",
    "    return (Stat_, err_kp, err_ncc)"
   ]
  }
 ],
 "metadata": {
  "kernelspec": {
   "display_name": "Python 3",
   "language": "python",
   "name": "python3"
  },
  "language_info": {
   "codemirror_mode": {
    "name": "ipython",
    "version": 3
   },
   "file_extension": ".py",
   "mimetype": "text/x-python",
   "name": "python",
   "nbconvert_exporter": "python",
   "pygments_lexer": "ipython3",
   "version": "3.10.12"
  },
  "papermill": {
   "default_parameters": {},
   "duration": 12.299601,
   "end_time": "2023-08-26T13:03:25.479833",
   "environment_variables": {},
   "exception": null,
   "input_path": "__notebook__.ipynb",
   "output_path": "__notebook__.ipynb",
   "parameters": {},
   "start_time": "2023-08-26T13:03:13.180232",
   "version": "2.4.0"
  }
 },
 "nbformat": 4,
 "nbformat_minor": 5
}
