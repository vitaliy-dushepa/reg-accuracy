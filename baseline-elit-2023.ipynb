{
 "cells": [
  {
   "cell_type": "code",
   "execution_count": 1,
   "id": "5a51ccb2",
   "metadata": {
    "_cell_guid": "b1076dfc-b9ad-4769-8c92-a6c4dae69d19",
    "_uuid": "8f2839f25d086af736a60e9eeb907d3b93b6e0e5",
    "execution": {
     "iopub.execute_input": "2023-08-26T12:58:41.442384Z",
     "iopub.status.busy": "2023-08-26T12:58:41.441919Z",
     "iopub.status.idle": "2023-08-26T12:58:42.565099Z",
     "shell.execute_reply": "2023-08-26T12:58:42.564079Z"
    },
    "papermill": {
     "duration": 1.148393,
     "end_time": "2023-08-26T12:58:42.567555",
     "exception": false,
     "start_time": "2023-08-26T12:58:41.419162",
     "status": "completed"
    },
    "tags": []
   },
   "outputs": [
    {
     "name": "stderr",
     "output_type": "stream",
     "text": [
      "/opt/conda/lib/python3.10/site-packages/scipy/__init__.py:146: UserWarning: A NumPy version >=1.16.5 and <1.23.0 is required for this version of SciPy (detected version 1.23.5\n",
      "  warnings.warn(f\"A NumPy version >={np_minversion} and <{np_maxversion}\"\n"
     ]
    }
   ],
   "source": [
    "from sklearn.metrics import r2_score\n",
    "from scipy.stats import pearsonr\n",
    "from sklearn.pipeline import Pipeline\n",
    "\n",
    "from matplotlib import pyplot as plt\n",
    "import numpy as np \n",
    "import pandas as pd \n",
    "\n",
    "import cv2\n",
    "import time"
   ]
  },
  {
   "cell_type": "code",
   "execution_count": 2,
   "id": "f3cb5427",
   "metadata": {
    "execution": {
     "iopub.execute_input": "2023-08-26T12:58:42.611340Z",
     "iopub.status.busy": "2023-08-26T12:58:42.610401Z",
     "iopub.status.idle": "2023-08-26T12:58:42.794998Z",
     "shell.execute_reply": "2023-08-26T12:58:42.794014Z"
    },
    "papermill": {
     "duration": 0.208991,
     "end_time": "2023-08-26T12:58:42.797369",
     "exception": false,
     "start_time": "2023-08-26T12:58:42.588378",
     "status": "completed"
    },
    "tags": []
   },
   "outputs": [],
   "source": [
    "#%% --- realWsum,  AVIRIS_d ---  (data_preporation_for_elit_2023)\n",
    "train_data_path_1 = '/kaggle/input/im-registration-accur-estimation/train__wSum__AVIRIS_d__4980p.csv'\n",
    "train_1 = pd.read_csv(train_data_path_1)\n",
    "\n",
    "test_data_path_1 = '/kaggle/input/im-registration-accur-estimation/test__wSum__AVIRIS_d__879p.csv'\n",
    "test_1 = pd.read_csv(test_data_path_1)\n",
    "\n",
    "\n",
    "\n",
    "valid_data_path_1 = '/kaggle/input/im-registration-accur-estimation/valid__wSum__AVIRIS_d__1996p.csv'\n",
    "valid_1 = pd.read_csv(valid_data_path_1)\n",
    "\n"
   ]
  },
  {
   "cell_type": "code",
   "execution_count": 3,
   "id": "aa3121d6",
   "metadata": {
    "execution": {
     "iopub.execute_input": "2023-08-26T12:58:42.842021Z",
     "iopub.status.busy": "2023-08-26T12:58:42.841691Z",
     "iopub.status.idle": "2023-08-26T12:58:42.848022Z",
     "shell.execute_reply": "2023-08-26T12:58:42.847062Z"
    },
    "papermill": {
     "duration": 0.03063,
     "end_time": "2023-08-26T12:58:42.850287",
     "exception": false,
     "start_time": "2023-08-26T12:58:42.819657",
     "status": "completed"
    },
    "tags": []
   },
   "outputs": [],
   "source": [
    "train = train_1.copy()\n",
    "test = test_1.copy()\n",
    "\n",
    "valid = valid_1.copy()\n",
    "\n",
    "select_par = 'P'    # 'x', 'y', 'sc', 'rot', 'P'\n",
    "\n",
    "# is_P_thresh = True"
   ]
  },
  {
   "cell_type": "code",
   "execution_count": 4,
   "id": "a9414bbc",
   "metadata": {
    "execution": {
     "iopub.execute_input": "2023-08-26T12:58:42.895238Z",
     "iopub.status.busy": "2023-08-26T12:58:42.893757Z",
     "iopub.status.idle": "2023-08-26T12:58:42.902883Z",
     "shell.execute_reply": "2023-08-26T12:58:42.902013Z"
    },
    "papermill": {
     "duration": 0.034356,
     "end_time": "2023-08-26T12:58:42.905158",
     "exception": false,
     "start_time": "2023-08-26T12:58:42.870802",
     "status": "completed"
    },
    "tags": []
   },
   "outputs": [
    {
     "data": {
      "text/plain": [
       "Index(['Unnamed: 0.1', 'Unnamed: 0', 'ci_s', 'ri_s', 'snr', 'Rz_ri',\n",
       "       'shift_x_ideal', 'shift_y_ideal', 'scale_ideal', 'rot_ideal',\n",
       "       'rmse_x__kp', 'rmse_y__kp', 'rmse_sc__kp', 'rmse_rot__kp',\n",
       "       'rmse_x__ncc', 'rmse_y__ncc', 'rmse_sc__ncc', 'rmse_rot__ncc', 'P__kp',\n",
       "       'P__ncc', 'subpix_x', 'subpix_y', 'scale', 'rot', 'mdx', 'mdy', 'widx',\n",
       "       'widy', 'CRLB_x', 'CRLB_y', 'CRLB_sc', 'CRLB_rot', 'quasi_CRLB_x',\n",
       "       'quasi_CRLB_y', 'quasi_CRLB_sc', 'quasi_CRLB_rot', 'p_Kybic', 'Kybic_x',\n",
       "       'Kybic_y', 'Kybic_sc', 'Kybic_rot', 'Kybic_x_y', 'Kybic_x_sc',\n",
       "       'Kybic_x_rot', 'Kybic_y_sc', 'Kybic_y_rot', 'Kybic_sc_rot'],\n",
       "      dtype='object')"
      ]
     },
     "execution_count": 4,
     "metadata": {},
     "output_type": "execute_result"
    }
   ],
   "source": [
    "train.columns"
   ]
  },
  {
   "cell_type": "code",
   "execution_count": 5,
   "id": "103374fc",
   "metadata": {
    "execution": {
     "iopub.execute_input": "2023-08-26T12:58:42.948353Z",
     "iopub.status.busy": "2023-08-26T12:58:42.947508Z",
     "iopub.status.idle": "2023-08-26T12:58:42.977343Z",
     "shell.execute_reply": "2023-08-26T12:58:42.976113Z"
    },
    "papermill": {
     "duration": 0.053896,
     "end_time": "2023-08-26T12:58:42.979899",
     "exception": false,
     "start_time": "2023-08-26T12:58:42.926003",
     "status": "completed"
    },
    "tags": []
   },
   "outputs": [
    {
     "data": {
      "text/html": [
       "<div>\n",
       "<style scoped>\n",
       "    .dataframe tbody tr th:only-of-type {\n",
       "        vertical-align: middle;\n",
       "    }\n",
       "\n",
       "    .dataframe tbody tr th {\n",
       "        vertical-align: top;\n",
       "    }\n",
       "\n",
       "    .dataframe thead th {\n",
       "        text-align: right;\n",
       "    }\n",
       "</style>\n",
       "<table border=\"1\" class=\"dataframe\">\n",
       "  <thead>\n",
       "    <tr style=\"text-align: right;\">\n",
       "      <th></th>\n",
       "      <th>Unnamed: 0.1</th>\n",
       "      <th>Unnamed: 0</th>\n",
       "      <th>ci_s</th>\n",
       "      <th>ri_s</th>\n",
       "      <th>snr</th>\n",
       "      <th>Rz_ri</th>\n",
       "      <th>shift_x_ideal</th>\n",
       "      <th>shift_y_ideal</th>\n",
       "      <th>scale_ideal</th>\n",
       "      <th>rot_ideal</th>\n",
       "      <th>...</th>\n",
       "      <th>Kybic_x</th>\n",
       "      <th>Kybic_y</th>\n",
       "      <th>Kybic_sc</th>\n",
       "      <th>Kybic_rot</th>\n",
       "      <th>Kybic_x_y</th>\n",
       "      <th>Kybic_x_sc</th>\n",
       "      <th>Kybic_x_rot</th>\n",
       "      <th>Kybic_y_sc</th>\n",
       "      <th>Kybic_y_rot</th>\n",
       "      <th>Kybic_sc_rot</th>\n",
       "    </tr>\n",
       "  </thead>\n",
       "  <tbody>\n",
       "    <tr>\n",
       "      <th>4975</th>\n",
       "      <td>4975</td>\n",
       "      <td>1995</td>\n",
       "      <td>55</td>\n",
       "      <td>70</td>\n",
       "      <td>3.171377</td>\n",
       "      <td>4.329953</td>\n",
       "      <td>0.071490</td>\n",
       "      <td>-0.320735</td>\n",
       "      <td>0.807816</td>\n",
       "      <td>4.734998</td>\n",
       "      <td>...</td>\n",
       "      <td>0.009839</td>\n",
       "      <td>0.011306</td>\n",
       "      <td>0.000399</td>\n",
       "      <td>0.028841</td>\n",
       "      <td>0.004950</td>\n",
       "      <td>-0.000669</td>\n",
       "      <td>0.005974</td>\n",
       "      <td>0.000772</td>\n",
       "      <td>0.007162</td>\n",
       "      <td>0.001117</td>\n",
       "    </tr>\n",
       "    <tr>\n",
       "      <th>4976</th>\n",
       "      <td>4976</td>\n",
       "      <td>1996</td>\n",
       "      <td>54</td>\n",
       "      <td>118</td>\n",
       "      <td>9.960558</td>\n",
       "      <td>4.691550</td>\n",
       "      <td>0.291483</td>\n",
       "      <td>0.457787</td>\n",
       "      <td>1.450100</td>\n",
       "      <td>146.652312</td>\n",
       "      <td>...</td>\n",
       "      <td>0.008164</td>\n",
       "      <td>0.009526</td>\n",
       "      <td>0.000425</td>\n",
       "      <td>0.013019</td>\n",
       "      <td>-0.001418</td>\n",
       "      <td>-0.000776</td>\n",
       "      <td>-0.001534</td>\n",
       "      <td>0.001172</td>\n",
       "      <td>-0.001927</td>\n",
       "      <td>-0.000557</td>\n",
       "    </tr>\n",
       "    <tr>\n",
       "      <th>4977</th>\n",
       "      <td>4977</td>\n",
       "      <td>1997</td>\n",
       "      <td>49</td>\n",
       "      <td>73</td>\n",
       "      <td>3.226868</td>\n",
       "      <td>3.327030</td>\n",
       "      <td>0.168829</td>\n",
       "      <td>-0.370389</td>\n",
       "      <td>0.946646</td>\n",
       "      <td>-164.047312</td>\n",
       "      <td>...</td>\n",
       "      <td>0.013408</td>\n",
       "      <td>0.013348</td>\n",
       "      <td>0.000631</td>\n",
       "      <td>0.034239</td>\n",
       "      <td>0.007459</td>\n",
       "      <td>-0.002102</td>\n",
       "      <td>0.007563</td>\n",
       "      <td>-0.001481</td>\n",
       "      <td>-0.002105</td>\n",
       "      <td>-0.001759</td>\n",
       "    </tr>\n",
       "    <tr>\n",
       "      <th>4978</th>\n",
       "      <td>4978</td>\n",
       "      <td>1998</td>\n",
       "      <td>47</td>\n",
       "      <td>102</td>\n",
       "      <td>5.068531</td>\n",
       "      <td>4.162084</td>\n",
       "      <td>-0.010767</td>\n",
       "      <td>0.228480</td>\n",
       "      <td>1.418492</td>\n",
       "      <td>-19.647136</td>\n",
       "      <td>...</td>\n",
       "      <td>0.011892</td>\n",
       "      <td>0.012076</td>\n",
       "      <td>0.000579</td>\n",
       "      <td>0.019171</td>\n",
       "      <td>0.005008</td>\n",
       "      <td>-0.001553</td>\n",
       "      <td>0.001995</td>\n",
       "      <td>0.000771</td>\n",
       "      <td>-0.001733</td>\n",
       "      <td>-0.000651</td>\n",
       "    </tr>\n",
       "    <tr>\n",
       "      <th>4979</th>\n",
       "      <td>4979</td>\n",
       "      <td>1999</td>\n",
       "      <td>48</td>\n",
       "      <td>70</td>\n",
       "      <td>35.781414</td>\n",
       "      <td>3.374520</td>\n",
       "      <td>-0.209086</td>\n",
       "      <td>-0.468601</td>\n",
       "      <td>0.913662</td>\n",
       "      <td>69.239587</td>\n",
       "      <td>...</td>\n",
       "      <td>0.007436</td>\n",
       "      <td>0.007398</td>\n",
       "      <td>0.000375</td>\n",
       "      <td>0.026309</td>\n",
       "      <td>-0.001926</td>\n",
       "      <td>0.000920</td>\n",
       "      <td>-0.004806</td>\n",
       "      <td>-0.000856</td>\n",
       "      <td>0.005342</td>\n",
       "      <td>0.000759</td>\n",
       "    </tr>\n",
       "  </tbody>\n",
       "</table>\n",
       "<p>5 rows × 47 columns</p>\n",
       "</div>"
      ],
      "text/plain": [
       "      Unnamed: 0.1  Unnamed: 0  ci_s  ri_s        snr     Rz_ri  \\\n",
       "4975          4975        1995    55    70   3.171377  4.329953   \n",
       "4976          4976        1996    54   118   9.960558  4.691550   \n",
       "4977          4977        1997    49    73   3.226868  3.327030   \n",
       "4978          4978        1998    47   102   5.068531  4.162084   \n",
       "4979          4979        1999    48    70  35.781414  3.374520   \n",
       "\n",
       "      shift_x_ideal  shift_y_ideal  scale_ideal   rot_ideal  ...   Kybic_x  \\\n",
       "4975       0.071490      -0.320735     0.807816    4.734998  ...  0.009839   \n",
       "4976       0.291483       0.457787     1.450100  146.652312  ...  0.008164   \n",
       "4977       0.168829      -0.370389     0.946646 -164.047312  ...  0.013408   \n",
       "4978      -0.010767       0.228480     1.418492  -19.647136  ...  0.011892   \n",
       "4979      -0.209086      -0.468601     0.913662   69.239587  ...  0.007436   \n",
       "\n",
       "       Kybic_y  Kybic_sc  Kybic_rot  Kybic_x_y  Kybic_x_sc  Kybic_x_rot  \\\n",
       "4975  0.011306  0.000399   0.028841   0.004950   -0.000669     0.005974   \n",
       "4976  0.009526  0.000425   0.013019  -0.001418   -0.000776    -0.001534   \n",
       "4977  0.013348  0.000631   0.034239   0.007459   -0.002102     0.007563   \n",
       "4978  0.012076  0.000579   0.019171   0.005008   -0.001553     0.001995   \n",
       "4979  0.007398  0.000375   0.026309  -0.001926    0.000920    -0.004806   \n",
       "\n",
       "      Kybic_y_sc  Kybic_y_rot  Kybic_sc_rot  \n",
       "4975    0.000772     0.007162      0.001117  \n",
       "4976    0.001172    -0.001927     -0.000557  \n",
       "4977   -0.001481    -0.002105     -0.001759  \n",
       "4978    0.000771    -0.001733     -0.000651  \n",
       "4979   -0.000856     0.005342      0.000759  \n",
       "\n",
       "[5 rows x 47 columns]"
      ]
     },
     "execution_count": 5,
     "metadata": {},
     "output_type": "execute_result"
    }
   ],
   "source": [
    "train.tail()"
   ]
  },
  {
   "cell_type": "code",
   "execution_count": 6,
   "id": "e50eaec9",
   "metadata": {
    "execution": {
     "iopub.execute_input": "2023-08-26T12:58:43.023874Z",
     "iopub.status.busy": "2023-08-26T12:58:43.023594Z",
     "iopub.status.idle": "2023-08-26T12:58:43.028927Z",
     "shell.execute_reply": "2023-08-26T12:58:43.028080Z"
    },
    "papermill": {
     "duration": 0.029365,
     "end_time": "2023-08-26T12:58:43.030778",
     "exception": false,
     "start_time": "2023-08-26T12:58:43.001413",
     "status": "completed"
    },
    "tags": []
   },
   "outputs": [],
   "source": [
    "# train[['rmse_x__ncc', 'rmse_y__ncc', 'rmse_rot__ncc', 'rmse_sc__ncc']]"
   ]
  },
  {
   "cell_type": "code",
   "execution_count": 7,
   "id": "4f689f78",
   "metadata": {
    "execution": {
     "iopub.execute_input": "2023-08-26T12:58:43.076001Z",
     "iopub.status.busy": "2023-08-26T12:58:43.074430Z",
     "iopub.status.idle": "2023-08-26T12:58:43.098001Z",
     "shell.execute_reply": "2023-08-26T12:58:43.096978Z"
    },
    "papermill": {
     "duration": 0.048402,
     "end_time": "2023-08-26T12:58:43.100228",
     "exception": false,
     "start_time": "2023-08-26T12:58:43.051826",
     "status": "completed"
    },
    "tags": []
   },
   "outputs": [
    {
     "data": {
      "text/html": [
       "<div>\n",
       "<style scoped>\n",
       "    .dataframe tbody tr th:only-of-type {\n",
       "        vertical-align: middle;\n",
       "    }\n",
       "\n",
       "    .dataframe tbody tr th {\n",
       "        vertical-align: top;\n",
       "    }\n",
       "\n",
       "    .dataframe thead th {\n",
       "        text-align: right;\n",
       "    }\n",
       "</style>\n",
       "<table border=\"1\" class=\"dataframe\">\n",
       "  <thead>\n",
       "    <tr style=\"text-align: right;\">\n",
       "      <th></th>\n",
       "      <th>Unnamed: 0.1</th>\n",
       "      <th>Unnamed: 0</th>\n",
       "      <th>ci_s</th>\n",
       "      <th>ri_s</th>\n",
       "      <th>snr</th>\n",
       "      <th>Rz_ri</th>\n",
       "      <th>shift_x_ideal</th>\n",
       "      <th>shift_y_ideal</th>\n",
       "      <th>scale_ideal</th>\n",
       "      <th>rot_ideal</th>\n",
       "      <th>...</th>\n",
       "      <th>Kybic_x</th>\n",
       "      <th>Kybic_y</th>\n",
       "      <th>Kybic_sc</th>\n",
       "      <th>Kybic_rot</th>\n",
       "      <th>Kybic_x_y</th>\n",
       "      <th>Kybic_x_sc</th>\n",
       "      <th>Kybic_x_rot</th>\n",
       "      <th>Kybic_y_sc</th>\n",
       "      <th>Kybic_y_rot</th>\n",
       "      <th>Kybic_sc_rot</th>\n",
       "    </tr>\n",
       "  </thead>\n",
       "  <tbody>\n",
       "    <tr>\n",
       "      <th>874</th>\n",
       "      <td>874</td>\n",
       "      <td>875</td>\n",
       "      <td>54</td>\n",
       "      <td>67</td>\n",
       "      <td>9.192918</td>\n",
       "      <td>3.700698</td>\n",
       "      <td>-0.349448</td>\n",
       "      <td>-0.260084</td>\n",
       "      <td>0.782099</td>\n",
       "      <td>97.578881</td>\n",
       "      <td>...</td>\n",
       "      <td>0.007411</td>\n",
       "      <td>0.006932</td>\n",
       "      <td>0.000315</td>\n",
       "      <td>0.020614</td>\n",
       "      <td>0.004574</td>\n",
       "      <td>-0.000268</td>\n",
       "      <td>-0.002199</td>\n",
       "      <td>-0.000359</td>\n",
       "      <td>-0.001180</td>\n",
       "      <td>0.000655</td>\n",
       "    </tr>\n",
       "    <tr>\n",
       "      <th>875</th>\n",
       "      <td>875</td>\n",
       "      <td>876</td>\n",
       "      <td>60</td>\n",
       "      <td>77</td>\n",
       "      <td>3.699351</td>\n",
       "      <td>4.742157</td>\n",
       "      <td>-0.484852</td>\n",
       "      <td>0.120097</td>\n",
       "      <td>0.824016</td>\n",
       "      <td>-89.182266</td>\n",
       "      <td>...</td>\n",
       "      <td>0.007198</td>\n",
       "      <td>0.008496</td>\n",
       "      <td>0.000312</td>\n",
       "      <td>0.026018</td>\n",
       "      <td>0.003625</td>\n",
       "      <td>0.000616</td>\n",
       "      <td>-0.005231</td>\n",
       "      <td>-0.000711</td>\n",
       "      <td>-0.003035</td>\n",
       "      <td>-0.001279</td>\n",
       "    </tr>\n",
       "    <tr>\n",
       "      <th>876</th>\n",
       "      <td>876</td>\n",
       "      <td>877</td>\n",
       "      <td>50</td>\n",
       "      <td>61</td>\n",
       "      <td>22.865631</td>\n",
       "      <td>3.241163</td>\n",
       "      <td>0.426294</td>\n",
       "      <td>-0.292462</td>\n",
       "      <td>0.758438</td>\n",
       "      <td>153.764955</td>\n",
       "      <td>...</td>\n",
       "      <td>0.008327</td>\n",
       "      <td>0.011378</td>\n",
       "      <td>0.000514</td>\n",
       "      <td>0.033260</td>\n",
       "      <td>0.001959</td>\n",
       "      <td>-0.000763</td>\n",
       "      <td>0.007358</td>\n",
       "      <td>0.001547</td>\n",
       "      <td>0.005165</td>\n",
       "      <td>0.001706</td>\n",
       "    </tr>\n",
       "    <tr>\n",
       "      <th>877</th>\n",
       "      <td>877</td>\n",
       "      <td>878</td>\n",
       "      <td>57</td>\n",
       "      <td>56</td>\n",
       "      <td>14.401332</td>\n",
       "      <td>3.534165</td>\n",
       "      <td>-0.240045</td>\n",
       "      <td>0.374957</td>\n",
       "      <td>0.601960</td>\n",
       "      <td>-18.950002</td>\n",
       "      <td>...</td>\n",
       "      <td>NaN</td>\n",
       "      <td>NaN</td>\n",
       "      <td>NaN</td>\n",
       "      <td>NaN</td>\n",
       "      <td>NaN</td>\n",
       "      <td>NaN</td>\n",
       "      <td>NaN</td>\n",
       "      <td>NaN</td>\n",
       "      <td>NaN</td>\n",
       "      <td>NaN</td>\n",
       "    </tr>\n",
       "    <tr>\n",
       "      <th>878</th>\n",
       "      <td>878</td>\n",
       "      <td>879</td>\n",
       "      <td>40</td>\n",
       "      <td>59</td>\n",
       "      <td>6.367001</td>\n",
       "      <td>4.393860</td>\n",
       "      <td>0.132283</td>\n",
       "      <td>-0.080414</td>\n",
       "      <td>0.911530</td>\n",
       "      <td>-73.046875</td>\n",
       "      <td>...</td>\n",
       "      <td>0.009603</td>\n",
       "      <td>0.010548</td>\n",
       "      <td>0.000638</td>\n",
       "      <td>0.045704</td>\n",
       "      <td>0.003391</td>\n",
       "      <td>0.000613</td>\n",
       "      <td>0.004587</td>\n",
       "      <td>-0.000764</td>\n",
       "      <td>0.001123</td>\n",
       "      <td>-0.000927</td>\n",
       "    </tr>\n",
       "  </tbody>\n",
       "</table>\n",
       "<p>5 rows × 47 columns</p>\n",
       "</div>"
      ],
      "text/plain": [
       "     Unnamed: 0.1  Unnamed: 0  ci_s  ri_s        snr     Rz_ri  shift_x_ideal  \\\n",
       "874           874         875    54    67   9.192918  3.700698      -0.349448   \n",
       "875           875         876    60    77   3.699351  4.742157      -0.484852   \n",
       "876           876         877    50    61  22.865631  3.241163       0.426294   \n",
       "877           877         878    57    56  14.401332  3.534165      -0.240045   \n",
       "878           878         879    40    59   6.367001  4.393860       0.132283   \n",
       "\n",
       "     shift_y_ideal  scale_ideal   rot_ideal  ...   Kybic_x   Kybic_y  \\\n",
       "874      -0.260084     0.782099   97.578881  ...  0.007411  0.006932   \n",
       "875       0.120097     0.824016  -89.182266  ...  0.007198  0.008496   \n",
       "876      -0.292462     0.758438  153.764955  ...  0.008327  0.011378   \n",
       "877       0.374957     0.601960  -18.950002  ...       NaN       NaN   \n",
       "878      -0.080414     0.911530  -73.046875  ...  0.009603  0.010548   \n",
       "\n",
       "     Kybic_sc  Kybic_rot  Kybic_x_y  Kybic_x_sc  Kybic_x_rot  Kybic_y_sc  \\\n",
       "874  0.000315   0.020614   0.004574   -0.000268    -0.002199   -0.000359   \n",
       "875  0.000312   0.026018   0.003625    0.000616    -0.005231   -0.000711   \n",
       "876  0.000514   0.033260   0.001959   -0.000763     0.007358    0.001547   \n",
       "877       NaN        NaN        NaN         NaN          NaN         NaN   \n",
       "878  0.000638   0.045704   0.003391    0.000613     0.004587   -0.000764   \n",
       "\n",
       "     Kybic_y_rot  Kybic_sc_rot  \n",
       "874    -0.001180      0.000655  \n",
       "875    -0.003035     -0.001279  \n",
       "876     0.005165      0.001706  \n",
       "877          NaN           NaN  \n",
       "878     0.001123     -0.000927  \n",
       "\n",
       "[5 rows x 47 columns]"
      ]
     },
     "execution_count": 7,
     "metadata": {},
     "output_type": "execute_result"
    }
   ],
   "source": [
    "# pd.set_option('display.max_columns', None)\n",
    "test.tail()"
   ]
  },
  {
   "cell_type": "code",
   "execution_count": 8,
   "id": "c6a9c864",
   "metadata": {
    "execution": {
     "iopub.execute_input": "2023-08-26T12:58:43.144650Z",
     "iopub.status.busy": "2023-08-26T12:58:43.143789Z",
     "iopub.status.idle": "2023-08-26T12:58:43.148937Z",
     "shell.execute_reply": "2023-08-26T12:58:43.148091Z"
    },
    "papermill": {
     "duration": 0.029158,
     "end_time": "2023-08-26T12:58:43.150871",
     "exception": false,
     "start_time": "2023-08-26T12:58:43.121713",
     "status": "completed"
    },
    "tags": []
   },
   "outputs": [],
   "source": [
    "# pd.set_option('display.max_columns', None)\n",
    "# pd.set_option('display.max_rows', None)\n",
    "# test[['P__ncc','rmse_x__ncc', 'p_Kybic','Kybic_x']] [200:300]"
   ]
  },
  {
   "cell_type": "code",
   "execution_count": 9,
   "id": "9c8c1584",
   "metadata": {
    "execution": {
     "iopub.execute_input": "2023-08-26T12:58:43.196115Z",
     "iopub.status.busy": "2023-08-26T12:58:43.194638Z",
     "iopub.status.idle": "2023-08-26T12:58:43.248837Z",
     "shell.execute_reply": "2023-08-26T12:58:43.247804Z"
    },
    "papermill": {
     "duration": 0.0786,
     "end_time": "2023-08-26T12:58:43.251083",
     "exception": false,
     "start_time": "2023-08-26T12:58:43.172483",
     "status": "completed"
    },
    "tags": []
   },
   "outputs": [
    {
     "name": "stdout",
     "output_type": "stream",
     "text": [
      "Empty DataFrame\n",
      "Columns: [Unnamed: 0.1, Unnamed: 0, ci_s, ri_s, snr, Rz_ri, shift_x_ideal, shift_y_ideal, scale_ideal, rot_ideal, rmse_x__kp, rmse_y__kp, rmse_sc__kp, rmse_rot__kp, rmse_x__ncc, rmse_y__ncc, rmse_sc__ncc, rmse_rot__ncc, P__kp, P__ncc, subpix_x, subpix_y, scale, rot, mdx, mdy, widx, widy, CRLB_x, CRLB_y, CRLB_sc, CRLB_rot, quasi_CRLB_x, quasi_CRLB_y, quasi_CRLB_sc, quasi_CRLB_rot, p_Kybic, Kybic_x, Kybic_y, Kybic_sc, Kybic_rot, Kybic_x_y, Kybic_x_sc, Kybic_x_rot, Kybic_y_sc, Kybic_y_rot, Kybic_sc_rot]\n",
      "Index: []\n",
      "\n",
      "[0 rows x 47 columns]\n",
      "Empty DataFrame\n",
      "Columns: [Unnamed: 0.1, Unnamed: 0, ci_s, ri_s, snr, Rz_ri, shift_x_ideal, shift_y_ideal, scale_ideal, rot_ideal, rmse_x__kp, rmse_y__kp, rmse_sc__kp, rmse_rot__kp, rmse_x__ncc, rmse_y__ncc, rmse_sc__ncc, rmse_rot__ncc, P__kp, P__ncc, subpix_x, subpix_y, scale, rot, mdx, mdy, widx, widy, CRLB_x, CRLB_y, CRLB_sc, CRLB_rot, quasi_CRLB_x, quasi_CRLB_y, quasi_CRLB_sc, quasi_CRLB_rot, p_Kybic, Kybic_x, Kybic_y, Kybic_sc, Kybic_rot, Kybic_x_y, Kybic_x_sc, Kybic_x_rot, Kybic_y_sc, Kybic_y_rot, Kybic_sc_rot]\n",
      "Index: []\n",
      "\n",
      "[0 rows x 47 columns]\n",
      "Empty DataFrame\n",
      "Columns: [Unnamed: 0.1, Unnamed: 0, ci_s, ri_s, snr, Rz_ri, shift_x_ideal, shift_y_ideal, scale_ideal, rot_ideal, rmse_x__kp, rmse_y__kp, rmse_sc__kp, rmse_rot__kp, rmse_x__ncc, rmse_y__ncc, rmse_sc__ncc, rmse_rot__ncc, P__kp, P__ncc, subpix_x, subpix_y, scale, rot, mdx, mdy, widx, widy, CRLB_x, CRLB_y, CRLB_sc, CRLB_rot, quasi_CRLB_x, quasi_CRLB_y, quasi_CRLB_sc, quasi_CRLB_rot, p_Kybic, Kybic_x, Kybic_y, Kybic_sc, Kybic_rot, Kybic_x_y, Kybic_x_sc, Kybic_x_rot, Kybic_y_sc, Kybic_y_rot, Kybic_sc_rot]\n",
      "Index: []\n",
      "\n",
      "[0 rows x 47 columns]\n"
     ]
    }
   ],
   "source": [
    "#%% --- DEBUG (Check for duplicate rows ---                                           # Attention\n",
    "duplicate_train_Rows = train[train.duplicated()]\n",
    "print(duplicate_train_Rows)\n",
    "\n",
    "duplicate_test_Rows = test[test.duplicated()]\n",
    "print(duplicate_test_Rows)\n",
    "\n",
    "\n",
    "duplicate_test_Rows = valid[valid.duplicated()]\n",
    "print(duplicate_test_Rows)"
   ]
  },
  {
   "cell_type": "code",
   "execution_count": 10,
   "id": "e227085b",
   "metadata": {
    "execution": {
     "iopub.execute_input": "2023-08-26T12:58:43.295919Z",
     "iopub.status.busy": "2023-08-26T12:58:43.294992Z",
     "iopub.status.idle": "2023-08-26T12:58:43.301426Z",
     "shell.execute_reply": "2023-08-26T12:58:43.300593Z"
    },
    "papermill": {
     "duration": 0.030927,
     "end_time": "2023-08-26T12:58:43.303445",
     "exception": false,
     "start_time": "2023-08-26T12:58:43.272518",
     "status": "completed"
    },
    "tags": []
   },
   "outputs": [],
   "source": [
    "#%%\n",
    "\n",
    "if select_par != 'P':\n",
    "    print('len TRAIN before = ', len(train))\n",
    "    train.dropna(inplace = True)\n",
    "    print('len TRAIN after = ', len(train))\n",
    "    print()\n",
    "\n",
    "    print('len TEST before = ', len(test))\n",
    "    test.dropna(inplace = True)\n",
    "    print('len TEST after = ', len(test))\n",
    "\n",
    "\n",
    "\n",
    "    print('len VALID before = ', len(valid))\n",
    "    valid.dropna(inplace = True)\n",
    "    print('len VALID after = ', len(valid))"
   ]
  },
  {
   "cell_type": "code",
   "execution_count": 11,
   "id": "f182982a",
   "metadata": {
    "execution": {
     "iopub.execute_input": "2023-08-26T12:58:43.347484Z",
     "iopub.status.busy": "2023-08-26T12:58:43.346722Z",
     "iopub.status.idle": "2023-08-26T12:58:43.353409Z",
     "shell.execute_reply": "2023-08-26T12:58:43.352546Z"
    },
    "papermill": {
     "duration": 0.030773,
     "end_time": "2023-08-26T12:58:43.355330",
     "exception": false,
     "start_time": "2023-08-26T12:58:43.324557",
     "status": "completed"
    },
    "tags": []
   },
   "outputs": [],
   "source": [
    "if select_par != 'P':\n",
    "\n",
    "    P0 = 0.9                                                                                         # Attention\n",
    "\n",
    "    # Select rows with P >= P0\n",
    "    print('len TRAIN before = ', len(train))\n",
    "    indexces = (train['P__ncc'] >= P0)\n",
    "    train = train[indexces]\n",
    "    print('len TRAIN after = ', len(train))      # 3351\n",
    "\n",
    "\n",
    "\n",
    "    # Select rows with P >= P0\n",
    "    print('len TEST before = ', len(test))\n",
    "    indexces = (test['P__ncc'] >= P0)\n",
    "    test = test[indexces]\n",
    "    print('len TEST after = ', len(test))        # 634\n",
    "\n",
    "\n",
    "\n",
    "    print('len VALID before = ', len(valid))\n",
    "    indexces = (valid['P__ncc'] >= P0)\n",
    "    valid = valid[indexces]\n",
    "    print('len TRAIN after = ', len(valid))      # 1306\n"
   ]
  },
  {
   "cell_type": "code",
   "execution_count": 12,
   "id": "79b2ceca",
   "metadata": {
    "execution": {
     "iopub.execute_input": "2023-08-26T12:58:43.399267Z",
     "iopub.status.busy": "2023-08-26T12:58:43.398474Z",
     "iopub.status.idle": "2023-08-26T12:58:43.403295Z",
     "shell.execute_reply": "2023-08-26T12:58:43.402416Z"
    },
    "papermill": {
     "duration": 0.028973,
     "end_time": "2023-08-26T12:58:43.405289",
     "exception": false,
     "start_time": "2023-08-26T12:58:43.376316",
     "status": "completed"
    },
    "tags": []
   },
   "outputs": [],
   "source": [
    "if select_par != 'P':\n",
    "    indexces_train = train.index\n",
    "    # indexces_train\n",
    "\n",
    "    indexces_test = test.index\n",
    "    # indexces_test\n",
    "\n",
    "    indexces_valid = valid.index\n",
    "    indexces_valid"
   ]
  },
  {
   "cell_type": "markdown",
   "id": "59bf1281",
   "metadata": {
    "papermill": {
     "duration": 0.02156,
     "end_time": "2023-08-26T12:58:43.448765",
     "exception": false,
     "start_time": "2023-08-26T12:58:43.427205",
     "status": "completed"
    },
    "tags": []
   },
   "source": [
    "# Features"
   ]
  },
  {
   "cell_type": "code",
   "execution_count": 13,
   "id": "a8e0a04c",
   "metadata": {
    "execution": {
     "iopub.execute_input": "2023-08-26T12:58:43.493783Z",
     "iopub.status.busy": "2023-08-26T12:58:43.492292Z",
     "iopub.status.idle": "2023-08-26T12:58:43.499113Z",
     "shell.execute_reply": "2023-08-26T12:58:43.498072Z"
    },
    "papermill": {
     "duration": 0.031058,
     "end_time": "2023-08-26T12:58:43.501186",
     "exception": false,
     "start_time": "2023-08-26T12:58:43.470128",
     "status": "completed"
    },
    "tags": []
   },
   "outputs": [],
   "source": [
    "# --- All variants ---\n",
    "# features = ['ci_s'] \n",
    "#            ['subpix_x', 'subpix_y'], ---     \n",
    "#            ['scale', 'rot']\n",
    "#            ['mdx','mdy','widx','widy']\n",
    "#             ['quasi_CRLB_x', 'quasi_CRLB_y', 'quasi_CRLB_sc', 'quasi_CRLB_rot']  ---\n",
    "#             ['Kybic_x','Kybic_y','Kybic_sc','Kybic_rot']\n",
    "#             ['Kybic_x_y','Kybic_x_sc','Kybic_x_rot',\n",
    "#              'Kybic_y_sc','Kybic_y_rot','Kybic_sc_rot']\n",
    "#     Possible promising features (used in ELNANO):\n",
    "#  'dK2_dx', 'dK2_dy',\n",
    "#  'r_max','x_of_max','y_of_max','r_sd',\n",
    "#  'rr_max','x_of_rrmax','y_of_rrmax','rr_sd',\n",
    "#  'cr6', 'H'\n",
    "#\n",
    "# 'p_Kybic'                                                                   # Attention - new feature\n",
    "\n",
    "if select_par == 'P':\n",
    "    features = ['p_Kybic',\n",
    "                'ci_s',\n",
    "                'scale', 'rot',\n",
    "                'mdx','mdy','widx','widy']\n",
    "    \n",
    "else:\n",
    "    features = ['Kybic_x','Kybic_y','Kybic_sc','Kybic_rot',\n",
    "                'ci_s',\n",
    "                'scale', 'rot',\n",
    "                'mdx','mdy','widx','widy',\n",
    "                'Kybic_x_y','Kybic_x_sc','Kybic_x_rot',\n",
    "                'Kybic_y_sc','Kybic_y_rot','Kybic_sc_rot']"
   ]
  },
  {
   "cell_type": "code",
   "execution_count": 14,
   "id": "bc959616",
   "metadata": {
    "execution": {
     "iopub.execute_input": "2023-08-26T12:58:43.546035Z",
     "iopub.status.busy": "2023-08-26T12:58:43.545141Z",
     "iopub.status.idle": "2023-08-26T12:58:43.557375Z",
     "shell.execute_reply": "2023-08-26T12:58:43.556391Z"
    },
    "papermill": {
     "duration": 0.037097,
     "end_time": "2023-08-26T12:58:43.559875",
     "exception": false,
     "start_time": "2023-08-26T12:58:43.522778",
     "status": "completed"
    },
    "tags": []
   },
   "outputs": [
    {
     "name": "stderr",
     "output_type": "stream",
     "text": [
      "/tmp/ipykernel_23/2782077088.py:38: SettingWithCopyWarning: \n",
      "A value is trying to be set on a copy of a slice from a DataFrame\n",
      "\n",
      "See the caveats in the documentation: https://pandas.pydata.org/pandas-docs/stable/user_guide/indexing.html#returning-a-view-versus-a-copy\n",
      "  X.dropna(inplace = True)\n"
     ]
    }
   ],
   "source": [
    "# ---- Create X and y\n",
    "\n",
    "# To scale very small features values (some ML algorithms may need it).\n",
    "# targ_norm_coef = 1000   \n",
    "targ_norm_coef = 1000                                                                           # Attention\n",
    "\n",
    "add_norm_for_sc = 10\n",
    "\n",
    "\n",
    "# ----------------------\n",
    "if select_par == 'x':\n",
    "    y_targ = train.rmse_x__ncc   *  targ_norm_coef\n",
    "elif select_par == 'y':\n",
    "    y_targ = train.rmse_y__ncc   *  targ_norm_coef\n",
    "elif select_par == 'sc':\n",
    "    y_targ = train.rmse_sc__ncc  *  targ_norm_coef*add_norm_for_sc\n",
    "elif select_par == 'rot':\n",
    "    y_targ = train.rmse_rot__ncc  *  targ_norm_coef\n",
    "elif select_par == 'P':                                            # Attention\n",
    "    y_targ = train.P__ncc\n",
    "else:\n",
    "    raise ValueError('Wrong select_par value')\n",
    "# ----------------------\n",
    "    \n",
    "X = train[ features ]\n",
    "\n",
    "\n",
    "'''\n",
    "# --- DEBUG\n",
    "mask = X.isna().any(axis=1)\n",
    "print(mask)\n",
    "rows_with_nan = X[mask]\n",
    "print(rows_with_nan)\n",
    "'''\n",
    "\n",
    "\n",
    "if select_par == 'P':  \n",
    "    X.dropna(inplace = True)\n",
    "    indexces_train = X.index\n",
    "    y_targ = y_targ[indexces_train]\n",
    "\n",
    "\n",
    "X = X.reset_index(drop=True)\n",
    "y_targ = y_targ.reset_index(drop=True)"
   ]
  },
  {
   "cell_type": "code",
   "execution_count": 15,
   "id": "819f6a8b",
   "metadata": {
    "execution": {
     "iopub.execute_input": "2023-08-26T12:58:43.606947Z",
     "iopub.status.busy": "2023-08-26T12:58:43.605483Z",
     "iopub.status.idle": "2023-08-26T12:58:43.623800Z",
     "shell.execute_reply": "2023-08-26T12:58:43.622930Z"
    },
    "papermill": {
     "duration": 0.042781,
     "end_time": "2023-08-26T12:58:43.625803",
     "exception": false,
     "start_time": "2023-08-26T12:58:43.583022",
     "status": "completed"
    },
    "tags": []
   },
   "outputs": [
    {
     "name": "stdout",
     "output_type": "stream",
     "text": [
      "(4978, 8)\n"
     ]
    },
    {
     "data": {
      "text/html": [
       "<div>\n",
       "<style scoped>\n",
       "    .dataframe tbody tr th:only-of-type {\n",
       "        vertical-align: middle;\n",
       "    }\n",
       "\n",
       "    .dataframe tbody tr th {\n",
       "        vertical-align: top;\n",
       "    }\n",
       "\n",
       "    .dataframe thead th {\n",
       "        text-align: right;\n",
       "    }\n",
       "</style>\n",
       "<table border=\"1\" class=\"dataframe\">\n",
       "  <thead>\n",
       "    <tr style=\"text-align: right;\">\n",
       "      <th></th>\n",
       "      <th>p_Kybic</th>\n",
       "      <th>ci_s</th>\n",
       "      <th>scale</th>\n",
       "      <th>rot</th>\n",
       "      <th>mdx</th>\n",
       "      <th>mdy</th>\n",
       "      <th>widx</th>\n",
       "      <th>widy</th>\n",
       "    </tr>\n",
       "  </thead>\n",
       "  <tbody>\n",
       "    <tr>\n",
       "      <th>0</th>\n",
       "      <td>1.0</td>\n",
       "      <td>45</td>\n",
       "      <td>1.151890</td>\n",
       "      <td>142.105985</td>\n",
       "      <td>2.284903</td>\n",
       "      <td>3.532960</td>\n",
       "      <td>0.166994</td>\n",
       "      <td>0.186797</td>\n",
       "    </tr>\n",
       "    <tr>\n",
       "      <th>1</th>\n",
       "      <td>1.0</td>\n",
       "      <td>54</td>\n",
       "      <td>0.707658</td>\n",
       "      <td>126.819265</td>\n",
       "      <td>4.329381</td>\n",
       "      <td>3.651688</td>\n",
       "      <td>0.149926</td>\n",
       "      <td>0.150087</td>\n",
       "    </tr>\n",
       "    <tr>\n",
       "      <th>2</th>\n",
       "      <td>0.0</td>\n",
       "      <td>53</td>\n",
       "      <td>0.000367</td>\n",
       "      <td>-0.000494</td>\n",
       "      <td>0.267829</td>\n",
       "      <td>0.051109</td>\n",
       "      <td>0.112252</td>\n",
       "      <td>0.082147</td>\n",
       "    </tr>\n",
       "    <tr>\n",
       "      <th>3</th>\n",
       "      <td>1.0</td>\n",
       "      <td>41</td>\n",
       "      <td>1.130844</td>\n",
       "      <td>140.463953</td>\n",
       "      <td>2.734368</td>\n",
       "      <td>4.571782</td>\n",
       "      <td>0.166072</td>\n",
       "      <td>0.187979</td>\n",
       "    </tr>\n",
       "    <tr>\n",
       "      <th>4</th>\n",
       "      <td>0.0</td>\n",
       "      <td>58</td>\n",
       "      <td>0.394542</td>\n",
       "      <td>-28.575191</td>\n",
       "      <td>0.991063</td>\n",
       "      <td>1.010261</td>\n",
       "      <td>0.095266</td>\n",
       "      <td>0.094823</td>\n",
       "    </tr>\n",
       "  </tbody>\n",
       "</table>\n",
       "</div>"
      ],
      "text/plain": [
       "   p_Kybic  ci_s     scale         rot       mdx       mdy      widx      widy\n",
       "0      1.0    45  1.151890  142.105985  2.284903  3.532960  0.166994  0.186797\n",
       "1      1.0    54  0.707658  126.819265  4.329381  3.651688  0.149926  0.150087\n",
       "2      0.0    53  0.000367   -0.000494  0.267829  0.051109  0.112252  0.082147\n",
       "3      1.0    41  1.130844  140.463953  2.734368  4.571782  0.166072  0.187979\n",
       "4      0.0    58  0.394542  -28.575191  0.991063  1.010261  0.095266  0.094823"
      ]
     },
     "execution_count": 15,
     "metadata": {},
     "output_type": "execute_result"
    }
   ],
   "source": [
    "print(X.shape)\n",
    "X.head()"
   ]
  },
  {
   "cell_type": "code",
   "execution_count": null,
   "id": "e0399e27",
   "metadata": {
    "papermill": {
     "duration": 0.02178,
     "end_time": "2023-08-26T12:58:43.669605",
     "exception": false,
     "start_time": "2023-08-26T12:58:43.647825",
     "status": "completed"
    },
    "tags": []
   },
   "outputs": [],
   "source": []
  },
  {
   "cell_type": "markdown",
   "id": "0ff88c9f",
   "metadata": {
    "papermill": {
     "duration": 0.021369,
     "end_time": "2023-08-26T12:58:43.712543",
     "exception": false,
     "start_time": "2023-08-26T12:58:43.691174",
     "status": "completed"
    },
    "tags": []
   },
   "source": [
    "# SVR"
   ]
  },
  {
   "cell_type": "code",
   "execution_count": 16,
   "id": "a391ecac",
   "metadata": {
    "execution": {
     "iopub.execute_input": "2023-08-26T12:58:43.761360Z",
     "iopub.status.busy": "2023-08-26T12:58:43.760477Z",
     "iopub.status.idle": "2023-08-26T12:58:43.846444Z",
     "shell.execute_reply": "2023-08-26T12:58:43.845500Z"
    },
    "papermill": {
     "duration": 0.114706,
     "end_time": "2023-08-26T12:58:43.848770",
     "exception": false,
     "start_time": "2023-08-26T12:58:43.734064",
     "status": "completed"
    },
    "tags": []
   },
   "outputs": [],
   "source": [
    "#%% ----SVR-----\n",
    "from sklearn.svm import SVR\n",
    "\n",
    "# --- BEST ---\n",
    "model = SVR(gamma = 0.041,\n",
    "            C = 10.2,\n",
    "            epsilon = 1e-4,\n",
    "            tol = 1e-3,\n",
    "            shrinking = True,\n",
    "            cache_size = 1024,\n",
    "            verbose = False)\n",
    "\n",
    "# --- DEBUG ---\n",
    "# model = SVR(gamma = 0.041,\n",
    "#             C = 21,\n",
    "#             epsilon = 3e-5,\n",
    "#             tol = 1e-4,\n",
    "#             shrinking = True,\n",
    "#             kernel = 'sigmoid')"
   ]
  },
  {
   "cell_type": "code",
   "execution_count": 17,
   "id": "2bd561c1",
   "metadata": {
    "execution": {
     "iopub.execute_input": "2023-08-26T12:58:43.893820Z",
     "iopub.status.busy": "2023-08-26T12:58:43.893475Z",
     "iopub.status.idle": "2023-08-26T12:58:43.899965Z",
     "shell.execute_reply": "2023-08-26T12:58:43.899088Z"
    },
    "papermill": {
     "duration": 0.031254,
     "end_time": "2023-08-26T12:58:43.902037",
     "exception": false,
     "start_time": "2023-08-26T12:58:43.870783",
     "status": "completed"
    },
    "tags": []
   },
   "outputs": [],
   "source": [
    "# Variant 1.\n",
    "# from sklearn.preprocessing import StandardScaler\n",
    "#scaler = StandardScaler()\n",
    "# Variant 2.\n",
    "from sklearn.preprocessing import MinMaxScaler\n",
    "scaler = MinMaxScaler()  \n",
    "    \n",
    "my_pipeline = Pipeline(steps=[('scaler', scaler),\n",
    "                              ('model', model)\n",
    "                            ])"
   ]
  },
  {
   "cell_type": "markdown",
   "id": "13d1f58f",
   "metadata": {
    "papermill": {
     "duration": 0.021432,
     "end_time": "2023-08-26T12:58:43.945252",
     "exception": false,
     "start_time": "2023-08-26T12:58:43.923820",
     "status": "completed"
    },
    "tags": []
   },
   "source": [
    "# Random Forest"
   ]
  },
  {
   "cell_type": "code",
   "execution_count": 18,
   "id": "c8211204",
   "metadata": {
    "execution": {
     "iopub.execute_input": "2023-08-26T12:58:43.990488Z",
     "iopub.status.busy": "2023-08-26T12:58:43.990177Z",
     "iopub.status.idle": "2023-08-26T12:58:43.994777Z",
     "shell.execute_reply": "2023-08-26T12:58:43.993737Z"
    },
    "papermill": {
     "duration": 0.029982,
     "end_time": "2023-08-26T12:58:43.997004",
     "exception": false,
     "start_time": "2023-08-26T12:58:43.967022",
     "status": "completed"
    },
    "tags": []
   },
   "outputs": [],
   "source": [
    "# from sklearn.ensemble import RandomForestRegressor\n",
    "# nJobs = 1                           \n",
    "\n",
    "\n",
    "# my_pipeline = RandomForestRegressor(n_estimators = 132,\n",
    "#                                     n_jobs=nJobs,\n",
    "#                                     random_state=1,\n",
    "#                                     max_features = 'sqrt',\n",
    "#                                     min_samples_split = 2,\n",
    "#                                     min_samples_leaf = 5, \n",
    "#                                     max_depth = 15,\n",
    "#                                     criterion = 'mse',\n",
    "#                                     max_samples = 0.8,\n",
    "#                                     bootstrap = True )"
   ]
  },
  {
   "cell_type": "markdown",
   "id": "475e44e7",
   "metadata": {
    "papermill": {
     "duration": 0.021855,
     "end_time": "2023-08-26T12:58:44.040364",
     "exception": false,
     "start_time": "2023-08-26T12:58:44.018509",
     "status": "completed"
    },
    "tags": []
   },
   "source": [
    "# XGBoost"
   ]
  },
  {
   "cell_type": "code",
   "execution_count": 19,
   "id": "71f7021a",
   "metadata": {
    "execution": {
     "iopub.execute_input": "2023-08-26T12:58:44.085983Z",
     "iopub.status.busy": "2023-08-26T12:58:44.085627Z",
     "iopub.status.idle": "2023-08-26T12:58:44.090313Z",
     "shell.execute_reply": "2023-08-26T12:58:44.089380Z"
    },
    "papermill": {
     "duration": 0.030368,
     "end_time": "2023-08-26T12:58:44.092306",
     "exception": false,
     "start_time": "2023-08-26T12:58:44.061938",
     "status": "completed"
    },
    "tags": []
   },
   "outputs": [],
   "source": [
    "# from xgboost import XGBRegressor\n",
    "# nJobs = 1                          \n",
    "\n",
    "# my_pipeline = XGBRegressor(learning_rate=0.01,\n",
    "#                             n_estimators=440,\n",
    "#                             n_jobs=nJobs,\n",
    "#                             random_state=1,\n",
    "#                             max_depth = 2,\n",
    "#                             min_child_weight = 1,\n",
    "#                             gamma = 0,\n",
    "#                             subsample = 0.8,\n",
    "#                             colsample_bytree = 0.8,\n",
    "#                             reg_alpha = 0.005,\n",
    "#                             reg_lambda = 1.2)"
   ]
  },
  {
   "cell_type": "markdown",
   "id": "3b263365",
   "metadata": {
    "papermill": {
     "duration": 0.021655,
     "end_time": "2023-08-26T12:58:44.135803",
     "exception": false,
     "start_time": "2023-08-26T12:58:44.114148",
     "status": "completed"
    },
    "tags": []
   },
   "source": [
    "# LightGBM"
   ]
  },
  {
   "cell_type": "code",
   "execution_count": 20,
   "id": "a75a4849",
   "metadata": {
    "execution": {
     "iopub.execute_input": "2023-08-26T12:58:44.182378Z",
     "iopub.status.busy": "2023-08-26T12:58:44.181510Z",
     "iopub.status.idle": "2023-08-26T12:58:44.187157Z",
     "shell.execute_reply": "2023-08-26T12:58:44.186243Z"
    },
    "papermill": {
     "duration": 0.031296,
     "end_time": "2023-08-26T12:58:44.189150",
     "exception": false,
     "start_time": "2023-08-26T12:58:44.157854",
     "status": "completed"
    },
    "tags": []
   },
   "outputs": [],
   "source": [
    "# from lightgbm import LGBMRegressor\n",
    "# nJobs = 1\n",
    "\n",
    "\n",
    "# my_pipeline = LGBMRegressor(n_jobs=nJobs,\n",
    "#                             random_state=1,\n",
    "#                             importance_type = 'gain',\n",
    "#                             learning_rate = 0.01,\n",
    "#                             n_estimators = 345,\n",
    "#                             boosting_type= 'gbdt',\n",
    "#                             num_leaves= 16,\n",
    "#                             max_depth = 6,\n",
    "#                             objective = None,\n",
    "#                             min_child_weight = 1e-3,\n",
    "#                             min_child_samples= 17,\n",
    "#                             subsample = 0.6,\n",
    "#                             subsample_freq = 1,\n",
    "#                             colsample_bytree = 0.8,\n",
    "#                             reg_alpha = 23.5,\n",
    "#                             reg_lambda = 1.35,\n",
    "#                             max_bin = 400)"
   ]
  },
  {
   "cell_type": "markdown",
   "id": "5603fb8a",
   "metadata": {
    "papermill": {
     "duration": 0.021467,
     "end_time": "2023-08-26T12:58:44.232571",
     "exception": false,
     "start_time": "2023-08-26T12:58:44.211104",
     "status": "completed"
    },
    "tags": []
   },
   "source": [
    "# Train fit"
   ]
  },
  {
   "cell_type": "code",
   "execution_count": 21,
   "id": "797bbba3",
   "metadata": {
    "execution": {
     "iopub.execute_input": "2023-08-26T12:58:44.277936Z",
     "iopub.status.busy": "2023-08-26T12:58:44.276989Z",
     "iopub.status.idle": "2023-08-26T12:58:45.787000Z",
     "shell.execute_reply": "2023-08-26T12:58:45.786087Z"
    },
    "papermill": {
     "duration": 1.535742,
     "end_time": "2023-08-26T12:58:45.789870",
     "exception": false,
     "start_time": "2023-08-26T12:58:44.254128",
     "status": "completed"
    },
    "tags": []
   },
   "outputs": [
    {
     "data": {
      "text/html": [
       "<style>#sk-container-id-1 {color: black;background-color: white;}#sk-container-id-1 pre{padding: 0;}#sk-container-id-1 div.sk-toggleable {background-color: white;}#sk-container-id-1 label.sk-toggleable__label {cursor: pointer;display: block;width: 100%;margin-bottom: 0;padding: 0.3em;box-sizing: border-box;text-align: center;}#sk-container-id-1 label.sk-toggleable__label-arrow:before {content: \"▸\";float: left;margin-right: 0.25em;color: #696969;}#sk-container-id-1 label.sk-toggleable__label-arrow:hover:before {color: black;}#sk-container-id-1 div.sk-estimator:hover label.sk-toggleable__label-arrow:before {color: black;}#sk-container-id-1 div.sk-toggleable__content {max-height: 0;max-width: 0;overflow: hidden;text-align: left;background-color: #f0f8ff;}#sk-container-id-1 div.sk-toggleable__content pre {margin: 0.2em;color: black;border-radius: 0.25em;background-color: #f0f8ff;}#sk-container-id-1 input.sk-toggleable__control:checked~div.sk-toggleable__content {max-height: 200px;max-width: 100%;overflow: auto;}#sk-container-id-1 input.sk-toggleable__control:checked~label.sk-toggleable__label-arrow:before {content: \"▾\";}#sk-container-id-1 div.sk-estimator input.sk-toggleable__control:checked~label.sk-toggleable__label {background-color: #d4ebff;}#sk-container-id-1 div.sk-label input.sk-toggleable__control:checked~label.sk-toggleable__label {background-color: #d4ebff;}#sk-container-id-1 input.sk-hidden--visually {border: 0;clip: rect(1px 1px 1px 1px);clip: rect(1px, 1px, 1px, 1px);height: 1px;margin: -1px;overflow: hidden;padding: 0;position: absolute;width: 1px;}#sk-container-id-1 div.sk-estimator {font-family: monospace;background-color: #f0f8ff;border: 1px dotted black;border-radius: 0.25em;box-sizing: border-box;margin-bottom: 0.5em;}#sk-container-id-1 div.sk-estimator:hover {background-color: #d4ebff;}#sk-container-id-1 div.sk-parallel-item::after {content: \"\";width: 100%;border-bottom: 1px solid gray;flex-grow: 1;}#sk-container-id-1 div.sk-label:hover label.sk-toggleable__label {background-color: #d4ebff;}#sk-container-id-1 div.sk-serial::before {content: \"\";position: absolute;border-left: 1px solid gray;box-sizing: border-box;top: 0;bottom: 0;left: 50%;z-index: 0;}#sk-container-id-1 div.sk-serial {display: flex;flex-direction: column;align-items: center;background-color: white;padding-right: 0.2em;padding-left: 0.2em;position: relative;}#sk-container-id-1 div.sk-item {position: relative;z-index: 1;}#sk-container-id-1 div.sk-parallel {display: flex;align-items: stretch;justify-content: center;background-color: white;position: relative;}#sk-container-id-1 div.sk-item::before, #sk-container-id-1 div.sk-parallel-item::before {content: \"\";position: absolute;border-left: 1px solid gray;box-sizing: border-box;top: 0;bottom: 0;left: 50%;z-index: -1;}#sk-container-id-1 div.sk-parallel-item {display: flex;flex-direction: column;z-index: 1;position: relative;background-color: white;}#sk-container-id-1 div.sk-parallel-item:first-child::after {align-self: flex-end;width: 50%;}#sk-container-id-1 div.sk-parallel-item:last-child::after {align-self: flex-start;width: 50%;}#sk-container-id-1 div.sk-parallel-item:only-child::after {width: 0;}#sk-container-id-1 div.sk-dashed-wrapped {border: 1px dashed gray;margin: 0 0.4em 0.5em 0.4em;box-sizing: border-box;padding-bottom: 0.4em;background-color: white;}#sk-container-id-1 div.sk-label label {font-family: monospace;font-weight: bold;display: inline-block;line-height: 1.2em;}#sk-container-id-1 div.sk-label-container {text-align: center;}#sk-container-id-1 div.sk-container {/* jupyter's `normalize.less` sets `[hidden] { display: none; }` but bootstrap.min.css set `[hidden] { display: none !important; }` so we also need the `!important` here to be able to override the default hidden behavior on the sphinx rendered scikit-learn.org. See: https://github.com/scikit-learn/scikit-learn/issues/21755 */display: inline-block !important;position: relative;}#sk-container-id-1 div.sk-text-repr-fallback {display: none;}</style><div id=\"sk-container-id-1\" class=\"sk-top-container\"><div class=\"sk-text-repr-fallback\"><pre>Pipeline(steps=[(&#x27;scaler&#x27;, MinMaxScaler()),\n",
       "                (&#x27;model&#x27;,\n",
       "                 SVR(C=10.2, cache_size=1024, epsilon=0.0001, gamma=0.041))])</pre><b>In a Jupyter environment, please rerun this cell to show the HTML representation or trust the notebook. <br />On GitHub, the HTML representation is unable to render, please try loading this page with nbviewer.org.</b></div><div class=\"sk-container\" hidden><div class=\"sk-item sk-dashed-wrapped\"><div class=\"sk-label-container\"><div class=\"sk-label sk-toggleable\"><input class=\"sk-toggleable__control sk-hidden--visually\" id=\"sk-estimator-id-1\" type=\"checkbox\" ><label for=\"sk-estimator-id-1\" class=\"sk-toggleable__label sk-toggleable__label-arrow\">Pipeline</label><div class=\"sk-toggleable__content\"><pre>Pipeline(steps=[(&#x27;scaler&#x27;, MinMaxScaler()),\n",
       "                (&#x27;model&#x27;,\n",
       "                 SVR(C=10.2, cache_size=1024, epsilon=0.0001, gamma=0.041))])</pre></div></div></div><div class=\"sk-serial\"><div class=\"sk-item\"><div class=\"sk-estimator sk-toggleable\"><input class=\"sk-toggleable__control sk-hidden--visually\" id=\"sk-estimator-id-2\" type=\"checkbox\" ><label for=\"sk-estimator-id-2\" class=\"sk-toggleable__label sk-toggleable__label-arrow\">MinMaxScaler</label><div class=\"sk-toggleable__content\"><pre>MinMaxScaler()</pre></div></div></div><div class=\"sk-item\"><div class=\"sk-estimator sk-toggleable\"><input class=\"sk-toggleable__control sk-hidden--visually\" id=\"sk-estimator-id-3\" type=\"checkbox\" ><label for=\"sk-estimator-id-3\" class=\"sk-toggleable__label sk-toggleable__label-arrow\">SVR</label><div class=\"sk-toggleable__content\"><pre>SVR(C=10.2, cache_size=1024, epsilon=0.0001, gamma=0.041)</pre></div></div></div></div></div></div></div>"
      ],
      "text/plain": [
       "Pipeline(steps=[('scaler', MinMaxScaler()),\n",
       "                ('model',\n",
       "                 SVR(C=10.2, cache_size=1024, epsilon=0.0001, gamma=0.041))])"
      ]
     },
     "execution_count": 21,
     "metadata": {},
     "output_type": "execute_result"
    }
   ],
   "source": [
    "#%%\n",
    "my_pipeline.fit(X, y_targ)"
   ]
  },
  {
   "cell_type": "markdown",
   "id": "814312e8",
   "metadata": {
    "papermill": {
     "duration": 0.030193,
     "end_time": "2023-08-26T12:58:45.854084",
     "exception": false,
     "start_time": "2023-08-26T12:58:45.823891",
     "status": "completed"
    },
    "tags": []
   },
   "source": [
    "# Test and valid preparation"
   ]
  },
  {
   "cell_type": "code",
   "execution_count": 22,
   "id": "bf126bec",
   "metadata": {
    "execution": {
     "iopub.execute_input": "2023-08-26T12:58:45.918000Z",
     "iopub.status.busy": "2023-08-26T12:58:45.916846Z",
     "iopub.status.idle": "2023-08-26T12:58:45.931953Z",
     "shell.execute_reply": "2023-08-26T12:58:45.931110Z"
    },
    "papermill": {
     "duration": 0.049687,
     "end_time": "2023-08-26T12:58:45.934469",
     "exception": false,
     "start_time": "2023-08-26T12:58:45.884782",
     "status": "completed"
    },
    "tags": []
   },
   "outputs": [],
   "source": [
    "if select_par == 'x':\n",
    "    test_y_targ = test.rmse_x__ncc\n",
    "    crlb_ = test.CRLB_x         # Yetic_Nehorai estimate.\n",
    "    kybic = test.Kybic_x        # Kybic estimate.\n",
    "    \n",
    "    valid_y_targ = valid.rmse_x__ncc\n",
    "elif select_par == 'y':\n",
    "    test_y_targ = test.rmse_y__ncc\n",
    "    crlb_ = test.CRLB_y\n",
    "    kybic = test.Kybic_y \n",
    "    \n",
    "    valid_y_targ = valid.rmse_y__ncc\n",
    "elif select_par == 'sc':\n",
    "    test_y_targ = test.rmse_sc__ncc\n",
    "    crlb_ = test.CRLB_sc                                          \n",
    "    kybic = test.Kybic_sc\n",
    "    \n",
    "    valid_y_targ = valid.rmse_sc__ncc\n",
    "elif select_par == 'rot':\n",
    "    test_y_targ = test.rmse_rot__ncc\n",
    "    crlb_ = test.CRLB_rot                                          \n",
    "    kybic = test.Kybic_rot\n",
    "    \n",
    "    valid_y_targ = valid.rmse_rot__ncc\n",
    "    \n",
    "elif select_par == 'P':\n",
    "    test_y_targ = test.P__ncc\n",
    "    crlb_ = test.p_Kybic         # not make sense, just to make the code work                                     \n",
    "    kybic = test.p_Kybic\n",
    "    \n",
    "    valid_y_targ = valid.P__ncc\n",
    "else:\n",
    "    raise ValueError('Wrong select_par value')\n",
    "\n",
    "test_X = test[ features ]\n",
    "valid_X = valid[ features ]"
   ]
  },
  {
   "cell_type": "code",
   "execution_count": 23,
   "id": "e6c84a78",
   "metadata": {
    "execution": {
     "iopub.execute_input": "2023-08-26T12:58:46.000108Z",
     "iopub.status.busy": "2023-08-26T12:58:45.999581Z",
     "iopub.status.idle": "2023-08-26T12:58:46.014820Z",
     "shell.execute_reply": "2023-08-26T12:58:46.013933Z"
    },
    "papermill": {
     "duration": 0.051102,
     "end_time": "2023-08-26T12:58:46.017960",
     "exception": false,
     "start_time": "2023-08-26T12:58:45.966858",
     "status": "completed"
    },
    "tags": []
   },
   "outputs": [
    {
     "name": "stderr",
     "output_type": "stream",
     "text": [
      "/tmp/ipykernel_23/2274851748.py:2: SettingWithCopyWarning: \n",
      "A value is trying to be set on a copy of a slice from a DataFrame\n",
      "\n",
      "See the caveats in the documentation: https://pandas.pydata.org/pandas-docs/stable/user_guide/indexing.html#returning-a-view-versus-a-copy\n",
      "  test_X.dropna(inplace = True)\n",
      "/tmp/ipykernel_23/2274851748.py:6: SettingWithCopyWarning: \n",
      "A value is trying to be set on a copy of a slice from a DataFrame\n",
      "\n",
      "See the caveats in the documentation: https://pandas.pydata.org/pandas-docs/stable/user_guide/indexing.html#returning-a-view-versus-a-copy\n",
      "  valid_X.dropna(inplace = True)\n"
     ]
    }
   ],
   "source": [
    "if select_par == 'P':  \n",
    "    test_X.dropna(inplace = True)\n",
    "    indexces_test = test_X.index\n",
    "    test_y_targ = test_y_targ[indexces_test]\n",
    "\n",
    "    valid_X.dropna(inplace = True)\n",
    "    indexces_valid = valid_X.index\n",
    "    valid_y_targ = valid_y_targ[indexces_valid]\n",
    "\n",
    "\n",
    "test_X = test_X.reset_index(drop=True)\n",
    "test_y_targ = test_y_targ.reset_index(drop=True)\n",
    "\n",
    "valid_X = valid_X.reset_index(drop=True)\n",
    "valid_y_targ = valid_y_targ.reset_index(drop=True)"
   ]
  },
  {
   "cell_type": "markdown",
   "id": "b175b4d2",
   "metadata": {
    "papermill": {
     "duration": 0.031483,
     "end_time": "2023-08-26T12:58:46.082247",
     "exception": false,
     "start_time": "2023-08-26T12:58:46.050764",
     "status": "completed"
    },
    "tags": []
   },
   "source": [
    "# Performance on train set"
   ]
  },
  {
   "cell_type": "code",
   "execution_count": 24,
   "id": "316c026a",
   "metadata": {
    "execution": {
     "iopub.execute_input": "2023-08-26T12:58:46.146060Z",
     "iopub.status.busy": "2023-08-26T12:58:46.145538Z",
     "iopub.status.idle": "2023-08-26T12:58:47.841233Z",
     "shell.execute_reply": "2023-08-26T12:58:47.839723Z"
    },
    "papermill": {
     "duration": 1.730296,
     "end_time": "2023-08-26T12:58:47.843477",
     "exception": false,
     "start_time": "2023-08-26T12:58:46.113181",
     "status": "completed"
    },
    "tags": []
   },
   "outputs": [
    {
     "name": "stdout",
     "output_type": "stream",
     "text": [
      "\n",
      "My model    (---train performance---)\n",
      "    Pearson correlation :  0.851 \n",
      "    r2_score :  0.674 \n",
      "\n"
     ]
    }
   ],
   "source": [
    "preds = my_pipeline.predict(X)\n",
    "if select_par == 'sc':\n",
    "    preds = preds / (targ_norm_coef*add_norm_for_sc)\n",
    "    y_targ = y_targ / (targ_norm_coef*add_norm_for_sc)\n",
    "elif (select_par == 'x') or (select_par == 'y') or (select_par == 'rot'):\n",
    "    preds = preds / targ_norm_coef \n",
    "    y_targ = y_targ / targ_norm_coef\n",
    "\n",
    "\n",
    "print()\n",
    "print('My model    (---train performance---)')\n",
    "(pc,_) = pearsonr(preds, y_targ.values)\n",
    "print(\"    Pearson correlation :  {0:0.3f} \".format(pc))\n",
    "\n",
    "r2 = r2_score(y_targ.values,preds)\n",
    "print(\"    r2_score :  {0:0.3f} \".format(r2) )\n",
    "print()\n"
   ]
  },
  {
   "cell_type": "markdown",
   "id": "49f440d4",
   "metadata": {
    "papermill": {
     "duration": 0.021993,
     "end_time": "2023-08-26T12:58:47.888546",
     "exception": false,
     "start_time": "2023-08-26T12:58:47.866553",
     "status": "completed"
    },
    "tags": []
   },
   "source": [
    "# Performance on TEST set"
   ]
  },
  {
   "cell_type": "code",
   "execution_count": 25,
   "id": "8bf3e2fc",
   "metadata": {
    "execution": {
     "iopub.execute_input": "2023-08-26T12:58:47.934403Z",
     "iopub.status.busy": "2023-08-26T12:58:47.933568Z",
     "iopub.status.idle": "2023-08-26T12:58:48.137784Z",
     "shell.execute_reply": "2023-08-26T12:58:48.136089Z"
    },
    "papermill": {
     "duration": 0.229533,
     "end_time": "2023-08-26T12:58:48.140104",
     "exception": false,
     "start_time": "2023-08-26T12:58:47.910571",
     "status": "completed"
    },
    "tags": []
   },
   "outputs": [
    {
     "name": "stdout",
     "output_type": "stream",
     "text": [
      "\n",
      "Yetic_Nehorai\n",
      "    Pearson correlation :  0.79 \n",
      "    r2_score :  0.48 \n",
      "\n",
      "Kybic\n",
      "    Pearson correlation :  0.79 \n",
      "    r2_score :  0.48 \n",
      "\n",
      "My model\n",
      "    Pearson correlation :  0.80 \n",
      "    r2_score :  0.56 \n"
     ]
    }
   ],
   "source": [
    "test_preds = my_pipeline.predict(test_X)\n",
    "if select_par == 'sc':\n",
    "    test_preds = test_preds / (targ_norm_coef*add_norm_for_sc)  \n",
    "elif (select_par == 'x') or (select_par == 'y') or (select_par == 'rot'):\n",
    "    test_preds = test_preds / targ_norm_coef\n",
    "\n",
    "\n",
    "print()\n",
    "print('Yetic_Nehorai')\n",
    "(pc,_) = pearsonr(crlb_.values, test_y_targ.values)\n",
    "print(\"    Pearson correlation :  {0:0.2f} \".format(pc))\n",
    "r2 = r2_score(test_y_targ.values, crlb_.values)\n",
    "print(\"    r2_score :  {0:0.2f} \".format(r2) )\n",
    "\n",
    "\n",
    "print()\n",
    "print('Kybic')\n",
    "(pc,_) = pearsonr(kybic.values, test_y_targ.values)\n",
    "print(\"    Pearson correlation :  {0:0.2f} \".format(pc))\n",
    "r2 = r2_score(test_y_targ.values,kybic.values)\n",
    "print(\"    r2_score :  {0:0.2f} \".format(r2) )\n",
    "\n",
    "\n",
    "print()\n",
    "print('My model')\n",
    "(pc,_) = pearsonr(test_preds, test_y_targ.values)\n",
    "print(\"    Pearson correlation :  {0:0.2f} \".format(pc))\n",
    "r2 = r2_score(test_y_targ.values,test_preds)\n",
    "print(\"    r2_score :  {0:0.2f} \".format(r2) )\n"
   ]
  },
  {
   "cell_type": "markdown",
   "id": "9f776505",
   "metadata": {
    "papermill": {
     "duration": 0.022404,
     "end_time": "2023-08-26T12:58:48.185351",
     "exception": false,
     "start_time": "2023-08-26T12:58:48.162947",
     "status": "completed"
    },
    "tags": []
   },
   "source": [
    "# Visualization"
   ]
  },
  {
   "cell_type": "code",
   "execution_count": 26,
   "id": "d88b5d99",
   "metadata": {
    "execution": {
     "iopub.execute_input": "2023-08-26T12:58:48.233835Z",
     "iopub.status.busy": "2023-08-26T12:58:48.233510Z",
     "iopub.status.idle": "2023-08-26T12:58:48.576970Z",
     "shell.execute_reply": "2023-08-26T12:58:48.575995Z"
    },
    "papermill": {
     "duration": 0.370974,
     "end_time": "2023-08-26T12:58:48.579336",
     "exception": false,
     "start_time": "2023-08-26T12:58:48.208362",
     "status": "completed"
    },
    "tags": []
   },
   "outputs": [
    {
     "data": {
      "image/png": "[encoded data removed]",
      "text/plain": [
       "<Figure size 500x250 with 1 Axes>"
      ]
     },
     "metadata": {},
     "output_type": "display_data"
    }
   ],
   "source": [
    "# --- Variant 1 (draw only part of points)---\n",
    "nFirst = 75\n",
    "# plt.figure(figsize = (7,3.8))\n",
    "fig = plt.figure(figsize = (5,2.5))\n",
    "ax = fig.add_subplot(111)\n",
    "ax.plot(test_y_targ.values[:nFirst],'r', label='true',\n",
    "          linewidth=2)\n",
    "# plt.plot(crlb_.values[:nFirst],'b', label='CRLB_')\n",
    "# plt.plot(kybic.values[:nFirst],'b', label='Kybic')\n",
    "ax.plot(test_preds[:nFirst],'b--', label='prediction',\n",
    "          linewidth=3)\n",
    "# ---------------\n",
    "\n",
    "\n",
    "# --- Variant 2 ---\n",
    "# plt.plot(test_y_targ.values,'r', label='true')\n",
    "# # plt.plot(crlb_.values,'m', label='CRLB_')\n",
    "# plt.plot(kybic.values,'k', label='Kybic')\n",
    "# plt.plot(test_preds,'b', label='newML')\n",
    "# ---------------\n",
    "\n",
    "plt.grid()\n",
    "plt.legend(fontsize=10)\n",
    "plt.xlabel('Number of image pair',size =10)\n",
    "if select_par == 'x':\n",
    "    plt.ylabel('RMSE for X axis',size =10)\n",
    "elif select_par == 'y':\n",
    "    plt.ylabel('RMSE for Y axis',size =10)\n",
    "elif select_par == 'sc':\n",
    "    plt.ylabel('RMSE for scale coef',size =10)\n",
    "elif select_par == 'rot':\n",
    "    plt.ylabel('RMSE for rotation coef',size =10)\n",
    "elif select_par == 'P':\n",
    "    plt.ylabel('P',size =10)\n",
    "else:\n",
    "    raise ValueError('Wrong select_par value')"
   ]
  },
  {
   "cell_type": "code",
   "execution_count": null,
   "id": "20688f05",
   "metadata": {
    "papermill": {
     "duration": 0.023062,
     "end_time": "2023-08-26T12:58:48.626509",
     "exception": false,
     "start_time": "2023-08-26T12:58:48.603447",
     "status": "completed"
    },
    "tags": []
   },
   "outputs": [],
   "source": []
  },
  {
   "cell_type": "code",
   "execution_count": 27,
   "id": "fde4ece0",
   "metadata": {
    "execution": {
     "iopub.execute_input": "2023-08-26T12:58:48.673820Z",
     "iopub.status.busy": "2023-08-26T12:58:48.673464Z",
     "iopub.status.idle": "2023-08-26T12:58:48.678013Z",
     "shell.execute_reply": "2023-08-26T12:58:48.676988Z"
    },
    "papermill": {
     "duration": 0.030964,
     "end_time": "2023-08-26T12:58:48.680396",
     "exception": false,
     "start_time": "2023-08-26T12:58:48.649432",
     "status": "completed"
    },
    "tags": []
   },
   "outputs": [],
   "source": [
    "#%% --- Plots for train predictions (DEBUG) ---\n",
    "# plt.figure()\n",
    "# plt.title('Performance on the train set')\n",
    "# plt.plot(y_targ.values,'r', label='true')\n",
    "# plt.plot(preds,'b', label='newML')\n",
    "# plt.legend(fontsize=10)\n"
   ]
  },
  {
   "cell_type": "markdown",
   "id": "b9c0cbef",
   "metadata": {
    "papermill": {
     "duration": 0.022764,
     "end_time": "2023-08-26T12:58:48.726106",
     "exception": false,
     "start_time": "2023-08-26T12:58:48.703342",
     "status": "completed"
    },
    "tags": []
   },
   "source": [
    "# **Neaural network**"
   ]
  },
  {
   "cell_type": "code",
   "execution_count": 28,
   "id": "0dfa6731",
   "metadata": {
    "execution": {
     "iopub.execute_input": "2023-08-26T12:58:48.776864Z",
     "iopub.status.busy": "2023-08-26T12:58:48.775777Z",
     "iopub.status.idle": "2023-08-26T12:58:52.219015Z",
     "shell.execute_reply": "2023-08-26T12:58:52.218024Z"
    },
    "papermill": {
     "duration": 3.472476,
     "end_time": "2023-08-26T12:58:52.221465",
     "exception": false,
     "start_time": "2023-08-26T12:58:48.748989",
     "status": "completed"
    },
    "tags": []
   },
   "outputs": [],
   "source": [
    "import torch\n",
    "from torch import nn\n",
    "from torch.utils.data import DataLoader\n",
    "from torchvision import datasets\n",
    "from torchvision.transforms import ToTensor\n",
    "import matplotlib.pyplot as plt\n",
    "\n",
    "# import torchvision.transforms.v2 as T2\n",
    "import torchvision.transforms as T\n",
    "\n",
    "import random "
   ]
  },
  {
   "cell_type": "code",
   "execution_count": 29,
   "id": "8bd175b5",
   "metadata": {
    "execution": {
     "iopub.execute_input": "2023-08-26T12:58:52.269771Z",
     "iopub.status.busy": "2023-08-26T12:58:52.268822Z",
     "iopub.status.idle": "2023-08-26T12:58:52.279563Z",
     "shell.execute_reply": "2023-08-26T12:58:52.278493Z"
    },
    "papermill": {
     "duration": 0.036735,
     "end_time": "2023-08-26T12:58:52.281511",
     "exception": false,
     "start_time": "2023-08-26T12:58:52.244776",
     "status": "completed"
    },
    "tags": []
   },
   "outputs": [
    {
     "data": {
      "text/plain": [
       "<torch._C.Generator at 0x7fc941bb0dd0>"
      ]
     },
     "execution_count": 29,
     "metadata": {},
     "output_type": "execute_result"
    }
   ],
   "source": [
    "# - - - Fixing randomness\n",
    "\n",
    "random.seed(13) \n",
    "np.random.seed(13)\n",
    "torch.manual_seed(13)"
   ]
  },
  {
   "cell_type": "code",
   "execution_count": 30,
   "id": "d991fcba",
   "metadata": {
    "execution": {
     "iopub.execute_input": "2023-08-26T12:58:52.329184Z",
     "iopub.status.busy": "2023-08-26T12:58:52.328890Z",
     "iopub.status.idle": "2023-08-26T12:58:52.397081Z",
     "shell.execute_reply": "2023-08-26T12:58:52.396118Z"
    },
    "papermill": {
     "duration": 0.094684,
     "end_time": "2023-08-26T12:58:52.399569",
     "exception": false,
     "start_time": "2023-08-26T12:58:52.304885",
     "status": "completed"
    },
    "tags": []
   },
   "outputs": [
    {
     "name": "stdout",
     "output_type": "stream",
     "text": [
      "Using cuda device\n"
     ]
    }
   ],
   "source": [
    "# Get cpu or gpu device for training.\n",
    "device = \"cuda\" if torch.cuda.is_available() else \"mps\" if torch.backends.mps.is_available() else \"cpu\"\n",
    "print(f\"Using {device} device\")"
   ]
  },
  {
   "cell_type": "markdown",
   "id": "fc917432",
   "metadata": {
    "papermill": {
     "duration": 0.022931,
     "end_time": "2023-08-26T12:58:52.445845",
     "exception": false,
     "start_time": "2023-08-26T12:58:52.422914",
     "status": "completed"
    },
    "tags": []
   },
   "source": [
    "import image data"
   ]
  },
  {
   "cell_type": "code",
   "execution_count": 31,
   "id": "f2f21548",
   "metadata": {
    "execution": {
     "iopub.execute_input": "2023-08-26T12:58:52.494361Z",
     "iopub.status.busy": "2023-08-26T12:58:52.493467Z",
     "iopub.status.idle": "2023-08-26T12:58:56.631308Z",
     "shell.execute_reply": "2023-08-26T12:58:56.630228Z"
    },
    "papermill": {
     "duration": 4.164764,
     "end_time": "2023-08-26T12:58:56.634039",
     "exception": false,
     "start_time": "2023-08-26T12:58:52.469275",
     "status": "completed"
    },
    "tags": []
   },
   "outputs": [],
   "source": [
    "import pickle\n",
    "\n",
    "file = open('/kaggle/input/im-registration-accur-estimation/train__ci_ri_list__4980p.pkl', 'rb')\n",
    "train__ci_ri_list = pickle.load(file)\n",
    "file.close()\n",
    "\n",
    "file = open('/kaggle/input/im-registration-accur-estimation/test__ci_ri_list__879p.pkl', 'rb')\n",
    "test__ci_ri_list = pickle.load(file)\n",
    "file.close()\n",
    "\n",
    "\n",
    "\n",
    "file = open('/kaggle/input/im-registration-accur-estimation/valid__ci_ri_list__1996p.pkl', 'rb')\n",
    "valid__ci_ri_list = pickle.load(file)\n",
    "file.close()"
   ]
  },
  {
   "cell_type": "code",
   "execution_count": 32,
   "id": "3059f9e2",
   "metadata": {
    "execution": {
     "iopub.execute_input": "2023-08-26T12:58:56.683840Z",
     "iopub.status.busy": "2023-08-26T12:58:56.683492Z",
     "iopub.status.idle": "2023-08-26T12:58:56.689265Z",
     "shell.execute_reply": "2023-08-26T12:58:56.688288Z"
    },
    "papermill": {
     "duration": 0.032604,
     "end_time": "2023-08-26T12:58:56.691315",
     "exception": false,
     "start_time": "2023-08-26T12:58:56.658711",
     "status": "completed"
    },
    "tags": []
   },
   "outputs": [],
   "source": [
    "# if \"ci_ri_list\" contain None - fixed in last version of data_praparation file\n",
    "train__ci_ri_list = [el for el in train__ci_ri_list if el is not None]\n",
    "test__ci_ri_list = [el for el in test__ci_ri_list if el is not None]\n",
    "\n",
    "valid__ci_ri_list = [el for el in valid__ci_ri_list if el is not None]"
   ]
  },
  {
   "cell_type": "code",
   "execution_count": 33,
   "id": "3cfc9a25",
   "metadata": {
    "execution": {
     "iopub.execute_input": "2023-08-26T12:58:56.738893Z",
     "iopub.status.busy": "2023-08-26T12:58:56.738591Z",
     "iopub.status.idle": "2023-08-26T12:58:56.745131Z",
     "shell.execute_reply": "2023-08-26T12:58:56.743737Z"
    },
    "papermill": {
     "duration": 0.032792,
     "end_time": "2023-08-26T12:58:56.747350",
     "exception": false,
     "start_time": "2023-08-26T12:58:56.714558",
     "status": "completed"
    },
    "tags": []
   },
   "outputs": [
    {
     "name": "stdout",
     "output_type": "stream",
     "text": [
      "4980\n",
      "879\n",
      "1996\n",
      "\n"
     ]
    }
   ],
   "source": [
    "print(len(train__ci_ri_list))\n",
    "print(len(test__ci_ri_list))\n",
    "print(len(valid__ci_ri_list))\n",
    "print()\n",
    "# print(train__ci_ri_list[0])"
   ]
  },
  {
   "cell_type": "code",
   "execution_count": 34,
   "id": "997410ea",
   "metadata": {
    "execution": {
     "iopub.execute_input": "2023-08-26T12:58:56.796797Z",
     "iopub.status.busy": "2023-08-26T12:58:56.796485Z",
     "iopub.status.idle": "2023-08-26T12:58:56.809099Z",
     "shell.execute_reply": "2023-08-26T12:58:56.807796Z"
    },
    "papermill": {
     "duration": 0.039737,
     "end_time": "2023-08-26T12:58:56.811271",
     "exception": false,
     "start_time": "2023-08-26T12:58:56.771534",
     "status": "completed"
    },
    "tags": []
   },
   "outputs": [
    {
     "name": "stdout",
     "output_type": "stream",
     "text": [
      "Int64Index([0, 1, 2, 3, 4, 5, 6, 7, 8, 9, 10, 11, 12, 13, 14, 15, 16, 17, 18,\n",
      "            19],\n",
      "           dtype='int64')\n",
      "RangeIndex(start=0, stop=20, step=1)\n",
      "RangeIndex(start=0, stop=20, step=1)\n"
     ]
    }
   ],
   "source": [
    "print(indexces_train[:20])\n",
    "print(indexces_test[:20])\n",
    "\n",
    "print(indexces_valid[:20])"
   ]
  },
  {
   "cell_type": "code",
   "execution_count": 35,
   "id": "c973f15b",
   "metadata": {
    "execution": {
     "iopub.execute_input": "2023-08-26T12:58:56.860129Z",
     "iopub.status.busy": "2023-08-26T12:58:56.859826Z",
     "iopub.status.idle": "2023-08-26T12:58:56.866435Z",
     "shell.execute_reply": "2023-08-26T12:58:56.865251Z"
    },
    "papermill": {
     "duration": 0.033417,
     "end_time": "2023-08-26T12:58:56.868968",
     "exception": false,
     "start_time": "2023-08-26T12:58:56.835551",
     "status": "completed"
    },
    "tags": []
   },
   "outputs": [],
   "source": [
    "train__ci_ri_list = [train__ci_ri_list[i] for i in indexces_train]\n",
    "test__ci_ri_list = [test__ci_ri_list[i] for i in indexces_test]\n",
    "\n",
    "valid__ci_ri_list = [valid__ci_ri_list[i] for i in indexces_valid]"
   ]
  },
  {
   "cell_type": "code",
   "execution_count": 36,
   "id": "48f4f5db",
   "metadata": {
    "execution": {
     "iopub.execute_input": "2023-08-26T12:58:56.917545Z",
     "iopub.status.busy": "2023-08-26T12:58:56.917263Z",
     "iopub.status.idle": "2023-08-26T12:58:56.924366Z",
     "shell.execute_reply": "2023-08-26T12:58:56.923362Z"
    },
    "papermill": {
     "duration": 0.034672,
     "end_time": "2023-08-26T12:58:56.927396",
     "exception": false,
     "start_time": "2023-08-26T12:58:56.892724",
     "status": "completed"
    },
    "tags": []
   },
   "outputs": [
    {
     "name": "stdout",
     "output_type": "stream",
     "text": [
      "4978\n",
      "879\n",
      "1996\n",
      "\n",
      "4978\n",
      "879\n",
      "1996\n",
      "\n"
     ]
    }
   ],
   "source": [
    "# Check that length coinside\n",
    "print(len(train__ci_ri_list))\n",
    "print(len(test__ci_ri_list))\n",
    "print(len(valid__ci_ri_list))\n",
    "print()\n",
    "\n",
    "print(len(X))\n",
    "print(len(test_X))\n",
    "print(len(valid_X))\n",
    "print()"
   ]
  },
  {
   "cell_type": "code",
   "execution_count": 37,
   "id": "1c0b13ba",
   "metadata": {
    "execution": {
     "iopub.execute_input": "2023-08-26T12:58:56.975751Z",
     "iopub.status.busy": "2023-08-26T12:58:56.974768Z",
     "iopub.status.idle": "2023-08-26T12:58:56.982150Z",
     "shell.execute_reply": "2023-08-26T12:58:56.981105Z"
    },
    "papermill": {
     "duration": 0.033908,
     "end_time": "2023-08-26T12:58:56.984530",
     "exception": false,
     "start_time": "2023-08-26T12:58:56.950622",
     "status": "completed"
    },
    "tags": []
   },
   "outputs": [
    {
     "data": {
      "text/plain": [
       "array([[35.35164565, 36.36828718, 36.97784173, ..., 41.24888344,\n",
       "        42.88279882, 38.05527984],\n",
       "       [39.3355632 , 37.79932095, 29.9002657 , ..., 44.98437892,\n",
       "        44.87524729, 40.28358846],\n",
       "       [34.84754711, 35.23068084, 31.82702851, ..., 38.00206614,\n",
       "        42.3264759 , 41.39821121],\n",
       "       ...,\n",
       "       [34.2061236 , 36.06831201, 23.98766971, ..., 28.96545902,\n",
       "        28.76931395, 43.7453916 ],\n",
       "       [28.14348106, 35.52569626, 25.93762963, ..., 29.43026273,\n",
       "        41.64573006, 40.47823763],\n",
       "       [31.96989373, 36.68240459, 25.78737738, ..., 40.52457735,\n",
       "        39.46961554, 41.39506599]])"
      ]
     },
     "execution_count": 37,
     "metadata": {},
     "output_type": "execute_result"
    }
   ],
   "source": [
    "train__ci_ri_list[0]"
   ]
  },
  {
   "cell_type": "markdown",
   "id": "1bfb32de",
   "metadata": {
    "papermill": {
     "duration": 0.02337,
     "end_time": "2023-08-26T12:58:57.032139",
     "exception": false,
     "start_time": "2023-08-26T12:58:57.008769",
     "status": "completed"
    },
    "tags": []
   },
   "source": [
    "# Dataset"
   ]
  },
  {
   "cell_type": "code",
   "execution_count": 38,
   "id": "34f75c76",
   "metadata": {
    "execution": {
     "iopub.execute_input": "2023-08-26T12:58:57.081667Z",
     "iopub.status.busy": "2023-08-26T12:58:57.080833Z",
     "iopub.status.idle": "2023-08-26T12:58:57.088266Z",
     "shell.execute_reply": "2023-08-26T12:58:57.087384Z"
    },
    "papermill": {
     "duration": 0.034824,
     "end_time": "2023-08-26T12:58:57.090350",
     "exception": false,
     "start_time": "2023-08-26T12:58:57.055526",
     "status": "completed"
    },
    "tags": []
   },
   "outputs": [
    {
     "data": {
      "text/plain": [
       "'\\nprint()\\n'"
      ]
     },
     "execution_count": 38,
     "metadata": {},
     "output_type": "execute_result"
    }
   ],
   "source": [
    "\n",
    "aug_train = T.Compose([ToTensor(),\n",
    "                      T.RandomAffine(degrees=(-30, 30), translate=(0.2, 0.2), scale=(0.9, 1.1), \n",
    "                                     interpolation=T.InterpolationMode.BILINEAR)]\n",
    "                  )\n",
    "no_aug_test = ToTensor()\n",
    "'''\n",
    "print()\n",
    "'''"
   ]
  },
  {
   "cell_type": "code",
   "execution_count": 39,
   "id": "713629ed",
   "metadata": {
    "execution": {
     "iopub.execute_input": "2023-08-26T12:58:57.138872Z",
     "iopub.status.busy": "2023-08-26T12:58:57.138116Z",
     "iopub.status.idle": "2023-08-26T12:58:57.148824Z",
     "shell.execute_reply": "2023-08-26T12:58:57.147984Z"
    },
    "papermill": {
     "duration": 0.036912,
     "end_time": "2023-08-26T12:58:57.150753",
     "exception": false,
     "start_time": "2023-08-26T12:58:57.113841",
     "status": "completed"
    },
    "tags": []
   },
   "outputs": [],
   "source": [
    "im_size = 60   # 60, 128  , 120                                       # Attention\n",
    "\n",
    "class Dataset(torch.utils.data.Dataset):\n",
    "    \"\"\"\n",
    "    dataset = Dataset(X, y, ci_ri_list)\n",
    "    ci_ri_list - list of Hx2H images\n",
    "    len(X)==len(ci_ri_list)\n",
    "    \n",
    "    \n",
    "    img, feat, y = dataset[i]\n",
    "      img :     image (2xHxH)\n",
    "      features : array og features\n",
    "      y :    regression target (RMSE_x, RMSE_y, RMSE_scale, RMSE_rot, P, ...)\n",
    "          (for 'test data' you can give random y array)\n",
    "    \"\"\"\n",
    "    \n",
    "    def __init__(self, X, y, ci_ri_list, mode=None):\n",
    "        self.X = X\n",
    "        self.y = y\n",
    "        self.ci_ri_list = ci_ri_list\n",
    "        self.mode = mode                    # 'train' or None\n",
    "\n",
    "    def __len__(self):\n",
    "        return len(self.X)\n",
    "\n",
    "    def __getitem__(self, i):\n",
    "        ci_ri = self.ci_ri_list[i]\n",
    "        n,m = ci_ri.shape\n",
    "        # print('n,m = ', n,m),  # m=2*n\n",
    "        \n",
    "        ci = ci_ri[:, :n]\n",
    "        ri_fragm = ci_ri[:, n:]\n",
    "        \n",
    "        \n",
    "        dim = (im_size, im_size)\n",
    "        ci_ = cv2.resize(ci, dim, interpolation = cv2.INTER_CUBIC)\n",
    "        ri_fragm_ = cv2.resize(ri_fragm, dim, interpolation = cv2.INTER_CUBIC)\n",
    "        \n",
    "        \n",
    "        img = np.zeros( (im_size,im_size,2) )   # H,W, C\n",
    "        img[:,:,0] = ci_\n",
    "        img[:,:,1] = ri_fragm_\n",
    "        \n",
    "        img = img/255.0\n",
    "        \n",
    "        if self.mode == 'train':   # transformation\n",
    "            img = aug_train(img)   # C,H,W\n",
    "        else:\n",
    "            img = no_aug_test(img)\n",
    "        \n",
    "        # features = self.X.iloc[i,:]\n",
    "        features = self.X.iloc[i,:].values\n",
    "        \n",
    "        y = self.y.iloc[i]\n",
    "        # y = np.float64(self.y.iloc[i])\n",
    "        \n",
    "        return img.float(), torch.tensor(features).float(), torch.tensor(y).float() "
   ]
  },
  {
   "cell_type": "code",
   "execution_count": 40,
   "id": "51a2d813",
   "metadata": {
    "execution": {
     "iopub.execute_input": "2023-08-26T12:58:57.200075Z",
     "iopub.status.busy": "2023-08-26T12:58:57.199258Z",
     "iopub.status.idle": "2023-08-26T12:58:57.207811Z",
     "shell.execute_reply": "2023-08-26T12:58:57.206326Z"
    },
    "papermill": {
     "duration": 0.035101,
     "end_time": "2023-08-26T12:58:57.209869",
     "exception": false,
     "start_time": "2023-08-26T12:58:57.174768",
     "status": "completed"
    },
    "tags": []
   },
   "outputs": [
    {
     "name": "stdout",
     "output_type": "stream",
     "text": [
      "y_targ =  0    1.000\n",
      "1    0.995\n",
      "2    0.870\n",
      "3    1.000\n",
      "4    0.315\n",
      "5    0.035\n",
      "6    0.995\n",
      "7    1.000\n",
      "8    0.000\n",
      "9    0.000\n",
      "Name: P__ncc, dtype: float64\n"
     ]
    }
   ],
   "source": [
    "# ----------------------\n",
    "if select_par == 'x':\n",
    "    y_targ = y_targ   *  targ_norm_coef\n",
    "elif select_par == 'y':\n",
    "    y_targ = y_targ   *  targ_norm_coef\n",
    "elif select_par == 'sc':\n",
    "    y_targ = y_targ  *  targ_norm_coef*add_norm_for_sc\n",
    "elif select_par == 'rot':\n",
    "    y_targ = y_targ  *  targ_norm_coef\n",
    "elif select_par == 'P':\n",
    "    y_targ = y_targ\n",
    "else:\n",
    "    raise ValueError('Wrong select_par value')\n",
    "# ----------------------\n",
    "\n",
    "\n",
    "print('y_targ = ', y_targ[:10])"
   ]
  },
  {
   "cell_type": "code",
   "execution_count": 41,
   "id": "c40b67f4",
   "metadata": {
    "execution": {
     "iopub.execute_input": "2023-08-26T12:58:57.261149Z",
     "iopub.status.busy": "2023-08-26T12:58:57.260321Z",
     "iopub.status.idle": "2023-08-26T12:58:57.265889Z",
     "shell.execute_reply": "2023-08-26T12:58:57.265029Z"
    },
    "papermill": {
     "duration": 0.03307,
     "end_time": "2023-08-26T12:58:57.267840",
     "exception": false,
     "start_time": "2023-08-26T12:58:57.234770",
     "status": "completed"
    },
    "tags": []
   },
   "outputs": [],
   "source": [
    "train_dataset = Dataset(X, y_targ, train__ci_ri_list, mode='train')           # Perform augmentations on samples\n",
    "# train_dataset = Dataset(X, y_targ, train__ci_ri_list, mode=None)           # Perform augmentations on batches (modified model)\n",
    "\n",
    "test_dataset = Dataset(test_X, test_y_targ, test__ci_ri_list, mode=None)\n",
    "\n",
    "valid_dataset = Dataset(valid_X, valid_y_targ, valid__ci_ri_list, mode=None)"
   ]
  },
  {
   "cell_type": "code",
   "execution_count": 42,
   "id": "7262f7d6",
   "metadata": {
    "execution": {
     "iopub.execute_input": "2023-08-26T12:58:57.318301Z",
     "iopub.status.busy": "2023-08-26T12:58:57.316739Z",
     "iopub.status.idle": "2023-08-26T12:58:57.902712Z",
     "shell.execute_reply": "2023-08-26T12:58:57.901796Z"
    },
    "papermill": {
     "duration": 0.613346,
     "end_time": "2023-08-26T12:58:57.904807",
     "exception": false,
     "start_time": "2023-08-26T12:58:57.291461",
     "status": "completed"
    },
    "tags": []
   },
   "outputs": [
    {
     "name": "stdout",
     "output_type": "stream",
     "text": [
      "img =  tensor([[[0.1677, 0.1684, 0.1849,  ..., 0.1848, 0.2303, 0.2637],\n",
      "         [0.1591, 0.1664, 0.1905,  ..., 0.2050, 0.2457, 0.2713],\n",
      "         [0.1715, 0.1843, 0.1916,  ..., 0.2043, 0.2416, 0.2726],\n",
      "         ...,\n",
      "         [0.1816, 0.1995, 0.1879,  ..., 0.3006, 0.3009, 0.2752],\n",
      "         [0.1875, 0.2027, 0.1908,  ..., 0.2945, 0.2981, 0.3146],\n",
      "         [0.1836, 0.1980, 0.1670,  ..., 0.2415, 0.2502, 0.2907]],\n",
      "\n",
      "        [[0.1585, 0.1721, 0.1899,  ..., 0.1813, 0.2341, 0.2667],\n",
      "         [0.1602, 0.1672, 0.1893,  ..., 0.1986, 0.2474, 0.2779],\n",
      "         [0.1693, 0.1848, 0.1947,  ..., 0.2012, 0.2459, 0.2691],\n",
      "         ...,\n",
      "         [0.1790, 0.1984, 0.1881,  ..., 0.3024, 0.2994, 0.2705],\n",
      "         [0.1892, 0.2081, 0.1928,  ..., 0.3003, 0.3048, 0.3128],\n",
      "         [0.1810, 0.2149, 0.1762,  ..., 0.2381, 0.2378, 0.2967]]])\n",
      "feat =  tensor([ 1.0000, 49.0000,  1.2023, 79.9304,  5.2435,  5.1183,  0.1740,  0.1865])\n",
      "y =  tensor(1.)\n"
     ]
    },
    {
     "data": {
      "text/plain": [
       "<matplotlib.image.AxesImage at 0x7fc8b912db40>"
      ]
     },
     "execution_count": 42,
     "metadata": {},
     "output_type": "execute_result"
    },
    {
     "data": {
      "image/png": "[encoded data removed]",
      "text/plain": [
       "<Figure size 640x480 with 1 Axes>"
      ]
     },
     "metadata": {},
     "output_type": "display_data"
    },
    {
     "data": {
      "image/png": "[encoded data removed]",
      "text/plain": [
       "<Figure size 640x480 with 1 Axes>"
      ]
     },
     "metadata": {},
     "output_type": "display_data"
    }
   ],
   "source": [
    "# --- Examine dataset class\n",
    "ind = 5\n",
    "'''\n",
    "img, feat, y = train_dataset[ind]\n",
    "\n",
    "print('img = ', img)\n",
    "print('feat = ', feat)\n",
    "print('y = ', y)\n",
    "'''\n",
    "img, feat, y = test_dataset[ind]\n",
    "\n",
    "print('img = ', img)\n",
    "print('feat = ', feat)\n",
    "print('y = ', y)\n",
    "\n",
    "plt.figure()\n",
    "plt.imshow(img[0,:,:])\n",
    "plt.figure()\n",
    "plt.imshow(img[1,:,:])"
   ]
  },
  {
   "cell_type": "markdown",
   "id": "34d789ec",
   "metadata": {
    "papermill": {
     "duration": 0.02446,
     "end_time": "2023-08-26T12:58:57.954744",
     "exception": false,
     "start_time": "2023-08-26T12:58:57.930284",
     "status": "completed"
    },
    "tags": []
   },
   "source": [
    "# Dataloader"
   ]
  },
  {
   "cell_type": "code",
   "execution_count": 43,
   "id": "ee68b291",
   "metadata": {
    "execution": {
     "iopub.execute_input": "2023-08-26T12:58:58.006982Z",
     "iopub.status.busy": "2023-08-26T12:58:58.006661Z",
     "iopub.status.idle": "2023-08-26T12:58:58.378452Z",
     "shell.execute_reply": "2023-08-26T12:58:58.377306Z"
    },
    "papermill": {
     "duration": 0.400002,
     "end_time": "2023-08-26T12:58:58.380702",
     "exception": false,
     "start_time": "2023-08-26T12:58:57.980700",
     "status": "completed"
    },
    "tags": []
   },
   "outputs": [
    {
     "name": "stdout",
     "output_type": "stream",
     "text": [
      "Shape of img [N, C, H, W]: torch.Size([64, 2, 60, 60])\n",
      "Shape of feat [N, C, H, W]: torch.Size([64, 8])\n",
      "Shape of y: torch.Size([64]) torch.float32\n"
     ]
    }
   ],
   "source": [
    "# the code from the example is partially used\n",
    "# https://pytorch.org/tutorials/beginner/basics/quickstart_tutorial.html\n",
    "\n",
    "batch_size = 64            # 64  , 128,  256   ,  512  , 1024                                                         # Attention\n",
    "valid_bs = 2*4096\n",
    "\n",
    "# Create data loaders.\n",
    "train_dataloader = DataLoader(train_dataset, batch_size=batch_size,\n",
    "                              drop_last=True, shuffle=True,\n",
    "                              num_workers=2)                                   # Attention\n",
    "\n",
    "\n",
    "test_dataloader = DataLoader(test_dataset, batch_size=valid_bs,\n",
    "                             drop_last=False, shuffle=False,\n",
    "                             num_workers=2)\n",
    "\n",
    "valid_dataloader = DataLoader(valid_dataset, batch_size=valid_bs,\n",
    "                             drop_last=False, shuffle=False,\n",
    "                             num_workers=2)\n",
    "\n",
    "# --- DEBUG\n",
    "for img, feat, y in train_dataloader:\n",
    "    print(f\"Shape of img [N, C, H, W]: {img.shape}\")\n",
    "    print(f\"Shape of feat [N, C, H, W]: {feat.shape}\")\n",
    "    print(f\"Shape of y: {y.shape} {y.dtype}\")\n",
    "    break"
   ]
  },
  {
   "cell_type": "code",
   "execution_count": 44,
   "id": "1dcc3899",
   "metadata": {
    "execution": {
     "iopub.execute_input": "2023-08-26T12:58:58.433342Z",
     "iopub.status.busy": "2023-08-26T12:58:58.432332Z",
     "iopub.status.idle": "2023-08-26T12:58:58.438010Z",
     "shell.execute_reply": "2023-08-26T12:58:58.437109Z"
    },
    "papermill": {
     "duration": 0.033905,
     "end_time": "2023-08-26T12:58:58.440203",
     "exception": false,
     "start_time": "2023-08-26T12:58:58.406298",
     "status": "completed"
    },
    "tags": []
   },
   "outputs": [],
   "source": [
    "train_dataset_no_aug = Dataset(X, y_targ, train__ci_ri_list, mode=None)  \n",
    "train_dataloader_no_aug = DataLoader(train_dataset_no_aug, batch_size=valid_bs,\n",
    "                              drop_last=False, shuffle=False,\n",
    "                              num_workers=2)"
   ]
  },
  {
   "cell_type": "markdown",
   "id": "5b362259",
   "metadata": {
    "papermill": {
     "duration": 0.025134,
     "end_time": "2023-08-26T12:58:58.490144",
     "exception": false,
     "start_time": "2023-08-26T12:58:58.465010",
     "status": "completed"
    },
    "tags": []
   },
   "source": [
    "# Model"
   ]
  },
  {
   "cell_type": "code",
   "execution_count": 45,
   "id": "9abc5407",
   "metadata": {
    "execution": {
     "iopub.execute_input": "2023-08-26T12:58:58.541472Z",
     "iopub.status.busy": "2023-08-26T12:58:58.540627Z",
     "iopub.status.idle": "2023-08-26T12:58:58.545684Z",
     "shell.execute_reply": "2023-08-26T12:58:58.544779Z"
    },
    "papermill": {
     "duration": 0.032977,
     "end_time": "2023-08-26T12:58:58.547707",
     "exception": false,
     "start_time": "2023-08-26T12:58:58.514730",
     "status": "completed"
    },
    "tags": []
   },
   "outputs": [],
   "source": [
    "mode = 'cnn_with_features'   #  'cnn_with_features', 'cnn_10' , 'cnn_32'\n",
    "attention_mode = True    # only for 'cnn_with_features', 'cnn_10'\n",
    "normFeat_mode = True     # only for 'cnn_with_features' (norm before concat conv[or attention] and hand-made features), \n",
    "                         #          'cnn_10'  (norm before concat attention in and out,        work when attention_mode = True)"
   ]
  },
  {
   "cell_type": "markdown",
   "id": "d1ff46f9",
   "metadata": {
    "papermill": {
     "duration": 0.024704,
     "end_time": "2023-08-26T12:58:58.597695",
     "exception": false,
     "start_time": "2023-08-26T12:58:58.572991",
     "status": "completed"
    },
    "tags": []
   },
   "source": [
    "CNN_3"
   ]
  },
  {
   "cell_type": "code",
   "execution_count": 46,
   "id": "9e4d32a5",
   "metadata": {
    "execution": {
     "iopub.execute_input": "2023-08-26T12:58:58.648714Z",
     "iopub.status.busy": "2023-08-26T12:58:58.648419Z",
     "iopub.status.idle": "2023-08-26T12:58:58.668005Z",
     "shell.execute_reply": "2023-08-26T12:58:58.667113Z"
    },
    "papermill": {
     "duration": 0.047828,
     "end_time": "2023-08-26T12:58:58.670088",
     "exception": false,
     "start_time": "2023-08-26T12:58:58.622260",
     "status": "completed"
    },
    "tags": []
   },
   "outputs": [],
   "source": [
    "\n",
    "if mode == 'cnn_10': \n",
    "    class cnn(nn.Module):\n",
    "        def __init__(self):\n",
    "            super().__init__()\n",
    "\n",
    "            self.transf = T.RandomAffine(degrees=(-30, 30), translate=(0.2, 0.2), scale=(0.9, 1.1), \n",
    "                                         interpolation=T.InterpolationMode.BILINEAR)\n",
    "\n",
    "            self.conv_stack = nn.Sequential(\n",
    "                nn.Conv2d(in_channels=2, out_channels=4, kernel_size=3),   # 58x58\n",
    "                nn.BatchNorm2d(4, affine=True),\n",
    "                nn.ReLU(),\n",
    "                nn.Conv2d(in_channels=4, out_channels=4, kernel_size=3),   # 56x56\n",
    "                nn.BatchNorm2d(4, affine=True),\n",
    "                nn.ReLU(),\n",
    "                nn.MaxPool2d(2),                                           # 28x28\n",
    "                \n",
    "\n",
    "                nn.Conv2d(in_channels=4, out_channels=6, kernel_size=3),   # 26x26\n",
    "                nn.BatchNorm2d(6, affine=True),\n",
    "                nn.ReLU(),\n",
    "                nn.Conv2d(in_channels=6, out_channels=6, kernel_size=3),   # 24x24\n",
    "                nn.BatchNorm2d(6, affine=True),\n",
    "                nn.ReLU(),\n",
    "                nn.MaxPool2d(2),                                           # 12x12\n",
    "                \n",
    "\n",
    "                nn.Conv2d(in_channels=6, out_channels=8, kernel_size=3),   # 10x10\n",
    "                nn.BatchNorm2d(8, affine=True),\n",
    "                nn.ReLU(),\n",
    "                nn.Conv2d(in_channels=8, out_channels=8, kernel_size=3),   # 8x8\n",
    "                nn.BatchNorm2d(8, affine=True),\n",
    "                nn.ReLU(),\n",
    "                nn.MaxPool2d(2),                                           # 4x4\n",
    "\n",
    "                \n",
    "                nn.Conv2d(in_channels=8, out_channels=10, kernel_size=3),   # 2x2\n",
    "                nn.BatchNorm2d(10, affine=True),\n",
    "                nn.ReLU()\n",
    "            )\n",
    "\n",
    "            \n",
    "            n_conv_feat = 10*2*2     # 10*2*2, 810 , 20*2*2                                # Attention\n",
    "            # self.norm_on_batch = nn.BatchNorm1d(num_features=n_conv_feat)\n",
    "            self.norm_on_batch = nn.BatchNorm1d(num_features=int(n_conv_feat/2))    # if concat with attention case \n",
    "            \n",
    "            self.norm_on_channel = nn.LayerNorm(normalized_shape=10)  # only on channels \n",
    "            \n",
    "            self.dense_stack = nn.Sequential(\n",
    "                nn.Linear(n_conv_feat, 16),\n",
    "                nn.ReLU(),\n",
    "                nn.Linear(16, 1)\n",
    "            )\n",
    "            \n",
    "            num_heads = 5\n",
    "            embed_dim = 10\n",
    "            self.multihead_attn = nn.MultiheadAttention(embed_dim, num_heads)\n",
    "            \n",
    "\n",
    "        def forward(self, x):\n",
    "\n",
    "            '''\n",
    "            # - - IF augmentation in batch                                   # Attention\n",
    "            if self.training:\n",
    "                x = self.transf(x)\n",
    "            '''\n",
    "            \n",
    "            \n",
    "            conv_feat = self.conv_stack(x)      # N C H W   (N-batch,  C- channels, H-height, W-width)\n",
    "            \n",
    "            \n",
    "            \n",
    "            # - - - - - - With attention\n",
    "            if attention_mode:\n",
    "                # print('conv_feat.shape = ', conv_feat.shape)\n",
    "                conv_feat = conv_feat.flatten(2, 3)     # N C S   (S-sequence)\n",
    "                \n",
    "                conv_feat_ = conv_feat.permute(2,0,1)    # S N C\n",
    "                # --- 1st self-attention \n",
    "                attn_output, attn_output_weights = self.multihead_attn(query=conv_feat_, \n",
    "                                                                       key=conv_feat_, \n",
    "                                                                       value=conv_feat_)     # attn_output    # S N C\n",
    "                '''\n",
    "                attn_output, attn_output_weights = self.multihead_attn(query=attn_output, \n",
    "                                                                       key=attn_output, \n",
    "                                                                       value=attn_output)     # attn_output    # S N C\n",
    "                '''\n",
    "                \n",
    "                attn_output_ = attn_output.permute(1,2,0)    # N C S\n",
    "                \n",
    "                \n",
    "                # - - - - - - Norm before concat (in and out of attention)\n",
    "                if normFeat_mode:\n",
    "                    # --  Norm on batch\n",
    "                    '''\n",
    "                    conv_feat = conv_feat.flatten(1, -1)     # N F    (F-features)\n",
    "                    conv_feat = self.norm_on_batch(conv_feat)\n",
    "                    attn_output_ = attn_output_.flatten(1, -1)     # N F    (F-features)\n",
    "                    attn_output_ = self.norm_on_batch(attn_output_)\n",
    "                    '''\n",
    "                    # --  Norm on channel (only attention out)\n",
    "                    attn_output_ = attn_output_.permute(0,2,1)    # N S C\n",
    "                    attn_output_ = self.norm_on_channel(attn_output_)   # Norm on C (last dimension) only\n",
    "                    attn_output_ = attn_output_.permute(0,2,1)    # N C S\n",
    "                # - - - - - - - -- - - - - - - -- - - - - -- - \n",
    "                \n",
    "                \n",
    "                \n",
    "                # conv_feat = attn_output_                  # only attn_output\n",
    "                # conv_feat = conv_feat + attn_output_        # add attn_output with input      # N C S\n",
    "                conv_feat = torch.cat((conv_feat, attn_output_), dim=1)         #       # N 2*C S\n",
    "            # - - - - - - - -- - - - - - - -- - - - - -- - \n",
    "            \n",
    "            \n",
    "            conv_feat = conv_feat.flatten(1, -1)     # N F    (F-features)\n",
    "            \n",
    "            \n",
    "            logits = self.dense_stack(conv_feat)\n",
    "            return logits"
   ]
  },
  {
   "cell_type": "code",
   "execution_count": 47,
   "id": "2419871e",
   "metadata": {
    "execution": {
     "iopub.execute_input": "2023-08-26T12:58:58.721833Z",
     "iopub.status.busy": "2023-08-26T12:58:58.721542Z",
     "iopub.status.idle": "2023-08-26T12:58:58.732995Z",
     "shell.execute_reply": "2023-08-26T12:58:58.732113Z"
    },
    "papermill": {
     "duration": 0.040091,
     "end_time": "2023-08-26T12:58:58.734995",
     "exception": false,
     "start_time": "2023-08-26T12:58:58.694904",
     "status": "completed"
    },
    "tags": []
   },
   "outputs": [],
   "source": [
    "if mode == 'cnn_32': \n",
    "    class cnn(nn.Module):\n",
    "        def __init__(self):\n",
    "            super().__init__()\n",
    "\n",
    "            self.transf = T.RandomAffine(degrees=(-30, 30), translate=(0.2, 0.2), scale=(0.9, 1.1), \n",
    "                                         interpolation=T.InterpolationMode.BILINEAR)\n",
    "\n",
    "            n_conv_feat = 2592     # 32*2*2,  2592\n",
    "            self.cnn_stack = nn.Sequential(\n",
    "                nn.Conv2d(in_channels=2, out_channels=8, kernel_size=3),   # 58x58\n",
    "                nn.BatchNorm2d(8, affine=True),\n",
    "                nn.ReLU(),\n",
    "                nn.Conv2d(in_channels=8, out_channels=8, kernel_size=3),   # 56x56\n",
    "                nn.BatchNorm2d(8, affine=True),\n",
    "                nn.ReLU(),\n",
    "                nn.MaxPool2d(2),                                           # 28x28\n",
    "                \n",
    "\n",
    "                nn.Conv2d(in_channels=8, out_channels=16, kernel_size=3),   # 26x26\n",
    "                nn.BatchNorm2d(16, affine=True),\n",
    "                nn.ReLU(),\n",
    "                nn.Conv2d(in_channels=16, out_channels=16, kernel_size=3),   # 24x24\n",
    "                nn.BatchNorm2d(16, affine=True),\n",
    "                nn.ReLU(),\n",
    "                nn.MaxPool2d(2),                                           # 12x12\n",
    "                \n",
    "\n",
    "                nn.Conv2d(in_channels=16, out_channels=24, kernel_size=3),   # 10x10\n",
    "                nn.BatchNorm2d(24, affine=True),\n",
    "                nn.ReLU(),\n",
    "                nn.Conv2d(in_channels=24, out_channels=24, kernel_size=3),   # 8x8\n",
    "                nn.BatchNorm2d(24, affine=True),\n",
    "                nn.ReLU(),\n",
    "                nn.MaxPool2d(2),                                           # 4x4\n",
    "\n",
    "                \n",
    "                nn.Conv2d(in_channels=24, out_channels=32, kernel_size=3),   # 2x2\n",
    "                nn.BatchNorm2d(32, affine=True),\n",
    "                nn.ReLU(),\n",
    "\n",
    "                \n",
    "                nn.Flatten(),\n",
    "                nn.Linear(n_conv_feat, 16),\n",
    "                nn.ReLU(),\n",
    "                nn.Linear(16, 1)\n",
    "            )\n",
    "\n",
    "        def forward(self, x):\n",
    "\n",
    "            '''\n",
    "            \n",
    "            # - - IF augmentation in batch                                   # Attention\n",
    "            if self.training:\n",
    "                x = self.transf(x)\n",
    "            '''\n",
    "            \n",
    "            \n",
    "            \n",
    "            logits = self.cnn_stack(x)\n",
    "            return logits\n"
   ]
  },
  {
   "cell_type": "code",
   "execution_count": null,
   "id": "abb3b2a1",
   "metadata": {
    "papermill": {
     "duration": 0.024975,
     "end_time": "2023-08-26T12:58:58.785112",
     "exception": false,
     "start_time": "2023-08-26T12:58:58.760137",
     "status": "completed"
    },
    "tags": []
   },
   "outputs": [],
   "source": []
  },
  {
   "cell_type": "markdown",
   "id": "80824d9a",
   "metadata": {
    "papermill": {
     "duration": 0.027282,
     "end_time": "2023-08-26T12:58:58.837253",
     "exception": false,
     "start_time": "2023-08-26T12:58:58.809971",
     "status": "completed"
    },
    "tags": []
   },
   "source": [
    "# Combine cnn+features"
   ]
  },
  {
   "cell_type": "code",
   "execution_count": 48,
   "id": "fd2ec0fd",
   "metadata": {
    "execution": {
     "iopub.execute_input": "2023-08-26T12:58:58.888645Z",
     "iopub.status.busy": "2023-08-26T12:58:58.888309Z",
     "iopub.status.idle": "2023-08-26T12:58:58.909094Z",
     "shell.execute_reply": "2023-08-26T12:58:58.908019Z"
    },
    "papermill": {
     "duration": 0.05108,
     "end_time": "2023-08-26T12:58:58.913042",
     "exception": false,
     "start_time": "2023-08-26T12:58:58.861962",
     "status": "completed"
    },
    "tags": []
   },
   "outputs": [
    {
     "name": "stdout",
     "output_type": "stream",
     "text": [
      "       'cnn_with_features' is used\n"
     ]
    }
   ],
   "source": [
    "# train_metric[-1] =  0.3254600726401089\n",
    "# test_metric[-1] =  0.25901960194265294   'rot'\n",
    "\n",
    "n_feat = len(features)   # 17, 8\n",
    "\n",
    "if mode == 'cnn_with_features':  \n",
    "    print(\"       'cnn_with_features' is used\")\n",
    "\n",
    "    class cnn(nn.Module):\n",
    "        def __init__(self):\n",
    "            super().__init__()\n",
    "            self.transf = T.RandomAffine(degrees=(-30, 30), translate=(0.2, 0.2), scale=(0.9, 1.1), \n",
    "                                         interpolation=T.InterpolationMode.BILINEAR)\n",
    "\n",
    "            self.conv_stack = nn.Sequential(\n",
    "                nn.Conv2d(in_channels=2, out_channels=4, kernel_size=3),   # 58x58\n",
    "                nn.BatchNorm2d(4, affine=True),\n",
    "                nn.ReLU(),\n",
    "                nn.Conv2d(in_channels=4, out_channels=4, kernel_size=3),   # 56x56\n",
    "                nn.BatchNorm2d(4, affine=True),\n",
    "                nn.ReLU(),\n",
    "                nn.MaxPool2d(2),                                           # 28x28\n",
    "\n",
    "                nn.Conv2d(in_channels=4, out_channels=6, kernel_size=3),   # 26x26\n",
    "                nn.BatchNorm2d(6, affine=True),\n",
    "                nn.ReLU(),\n",
    "                nn.Conv2d(in_channels=6, out_channels=6, kernel_size=3),   # 24x24\n",
    "                nn.BatchNorm2d(6, affine=True),\n",
    "                nn.ReLU(),\n",
    "                nn.MaxPool2d(2),                                           # 12x12\n",
    "\n",
    "                nn.Conv2d(in_channels=6, out_channels=8, kernel_size=3),   # 10x10\n",
    "                nn.BatchNorm2d(8, affine=True),\n",
    "                nn.ReLU(),\n",
    "                nn.Conv2d(in_channels=8, out_channels=8, kernel_size=3),   # 8x8\n",
    "                nn.BatchNorm2d(8, affine=True),\n",
    "                nn.ReLU(),\n",
    "                nn.MaxPool2d(2),                                           # 4x4\n",
    "                \n",
    "                nn.Conv2d(in_channels=8, out_channels=10, kernel_size=3),   # 2x2\n",
    "                nn.BatchNorm2d(10, affine=True),\n",
    "                nn.ReLU()\n",
    "            )\n",
    "            \n",
    "            # self.flat = nn.Flatten()\n",
    "            \n",
    "            n_conv_feat = 10*2*2     # 10*2*2,  20*2*2\n",
    "            self.norm_on_batch = nn.BatchNorm1d(num_features=n_conv_feat)\n",
    "            # self.norm_on_batch = nn.BatchNorm1d(num_features=int(n_conv_feat/2))    # if concat with attention case\n",
    "            \n",
    "            self.norm_on_channel = nn.LayerNorm(normalized_shape=10)  # only on channels \n",
    "            \n",
    "            \n",
    "            \n",
    "            self.feat_norm = nn.BatchNorm1d(n_feat)\n",
    "            \n",
    "            self.dense_stack = nn.Sequential(\n",
    "                nn.Linear(n_conv_feat + n_feat, 16),\n",
    "                nn.ReLU(),\n",
    "                nn.Linear(16, 1)\n",
    "            )\n",
    "            \n",
    "            num_heads = 5\n",
    "            embed_dim = 10\n",
    "            self.multihead_attn = nn.MultiheadAttention(embed_dim, num_heads)\n",
    "            \n",
    "\n",
    "\n",
    "        def forward(self, img, feat):\n",
    "            '''\n",
    "            # - - IF augmentation in batch                                   # Attention\n",
    "            if self.training:\n",
    "                img = self.transf(img)\n",
    "                # plt.figure()\n",
    "                # plt.imshow(x[0,0,:,:].detach().cpu().numpy())\n",
    "            '''\n",
    "\n",
    "            conv_feat = self.conv_stack(img)    # N C H W   (N-batch,  C- channels, H-height, W-width)\n",
    "            \n",
    "            # - - - - - - With attention\n",
    "            if attention_mode:\n",
    "                conv_feat = conv_feat.flatten(2, 3)     # N C S   (S-sequence)\n",
    "                conv_feat_ = conv_feat.permute(2,0,1)    # S N C\n",
    "                # --- 1st self-attention \n",
    "                attn_output, attn_output_weights = self.multihead_attn(query=conv_feat_, \n",
    "                                                                       key=conv_feat_, \n",
    "                                                                       value=conv_feat_)     # attn_output    # S N C\n",
    "                '''\n",
    "                attn_output, attn_output_weights = self.multihead_attn(query=attn_output, \n",
    "                                                                       key=attn_output, \n",
    "                                                                       value=attn_output)     # attn_output    # S N C\n",
    "                '''\n",
    "                attn_output_ = attn_output.permute(1,2,0)    # N C S\n",
    "\n",
    "                # - - - - - - Norm out of attention\n",
    "                if normFeat_mode:\n",
    "                    # - - --  Norm on batch\n",
    "                    '''\n",
    "                    # conv_feat = conv_feat.flatten(1, -1)     # N F    (F-features)\n",
    "                    # conv_feat = self.norm_on_batch(conv_feat)\n",
    "                    attn_output_ = attn_output_.flatten(1, -1)     # N F    (F-features)\n",
    "                    attn_output_ = self.norm_on_batch(attn_output_)\n",
    "                    '''\n",
    "                    # --  Norm on channel (only attention out)\n",
    "                    attn_output_ = attn_output_.permute(0,2,1)    # N S C\n",
    "                    attn_output_ = self.norm_on_channel(attn_output_)   # Norm on C (last dimension) only\n",
    "                    attn_output_ = attn_output_.permute(0,2,1)    # N C S\n",
    "                    \n",
    "                # - - - - - - - -- - - - - - - -- - - - - -- - \n",
    "                \n",
    "                \n",
    "                \n",
    "                conv_feat = attn_output_                  # only attn_output\n",
    "                # conv_feat = conv_feat + attn_output_        # add attn_output with input      # N C S\n",
    "                # conv_feat = torch.cat((conv_feat, attn_output_), dim=1)         #       # N 2*C S\n",
    "            # - - - - - - - -- - - - - - - -- - - - - -- - \n",
    "            \n",
    "            \n",
    "            conv_feat = conv_feat.flatten(1, -1)     # N F    (F-features)\n",
    "            \n",
    "            \n",
    "            # - - - - - - With feat norm\n",
    "            if normFeat_mode:\n",
    "                if not attention_mode:\n",
    "                    conv_feat = self.norm_on_batch(conv_feat)        # norm by batch\n",
    "\n",
    "                feat = self.feat_norm(feat)         # N F    (F-features)\n",
    "            # - - - - - - - -- - - - - - - -- - - - - -- - \n",
    "            \n",
    "            x = torch.cat((conv_feat,feat), axis=1)    \n",
    "\n",
    "            logits = self.dense_stack(x)\n",
    "            return logits\n"
   ]
  },
  {
   "cell_type": "code",
   "execution_count": 49,
   "id": "e0fcd915",
   "metadata": {
    "execution": {
     "iopub.execute_input": "2023-08-26T12:58:58.964034Z",
     "iopub.status.busy": "2023-08-26T12:58:58.963737Z",
     "iopub.status.idle": "2023-08-26T12:59:01.904711Z",
     "shell.execute_reply": "2023-08-26T12:59:01.903699Z"
    },
    "papermill": {
     "duration": 2.969126,
     "end_time": "2023-08-26T12:59:01.907097",
     "exception": false,
     "start_time": "2023-08-26T12:58:58.937971",
     "status": "completed"
    },
    "tags": []
   },
   "outputs": [],
   "source": [
    "model = cnn().to(device)"
   ]
  },
  {
   "cell_type": "code",
   "execution_count": 50,
   "id": "8ddaaac7",
   "metadata": {
    "execution": {
     "iopub.execute_input": "2023-08-26T12:59:01.961340Z",
     "iopub.status.busy": "2023-08-26T12:59:01.960957Z",
     "iopub.status.idle": "2023-08-26T12:59:06.358709Z",
     "shell.execute_reply": "2023-08-26T12:59:06.357740Z"
    },
    "papermill": {
     "duration": 4.428866,
     "end_time": "2023-08-26T12:59:06.361893",
     "exception": false,
     "start_time": "2023-08-26T12:59:01.933027",
     "status": "completed"
    },
    "tags": []
   },
   "outputs": [
    {
     "name": "stdout",
     "output_type": "stream",
     "text": [
      "==========================================================================================\n",
      "Layer (type:depth-idx)                   Output Shape              Param #\n",
      "==========================================================================================\n",
      "cnn                                      [64, 1]                   80\n",
      "├─Sequential: 1-1                        [64, 10, 2, 2]            --\n",
      "│    └─Conv2d: 2-1                       [64, 4, 58, 58]           76\n",
      "│    └─BatchNorm2d: 2-2                  [64, 4, 58, 58]           8\n",
      "│    └─ReLU: 2-3                         [64, 4, 58, 58]           --\n",
      "│    └─Conv2d: 2-4                       [64, 4, 56, 56]           148\n",
      "│    └─BatchNorm2d: 2-5                  [64, 4, 56, 56]           8\n",
      "│    └─ReLU: 2-6                         [64, 4, 56, 56]           --\n",
      "│    └─MaxPool2d: 2-7                    [64, 4, 28, 28]           --\n",
      "│    └─Conv2d: 2-8                       [64, 6, 26, 26]           222\n",
      "│    └─BatchNorm2d: 2-9                  [64, 6, 26, 26]           12\n",
      "│    └─ReLU: 2-10                        [64, 6, 26, 26]           --\n",
      "│    └─Conv2d: 2-11                      [64, 6, 24, 24]           330\n",
      "│    └─BatchNorm2d: 2-12                 [64, 6, 24, 24]           12\n",
      "│    └─ReLU: 2-13                        [64, 6, 24, 24]           --\n",
      "│    └─MaxPool2d: 2-14                   [64, 6, 12, 12]           --\n",
      "│    └─Conv2d: 2-15                      [64, 8, 10, 10]           440\n",
      "│    └─BatchNorm2d: 2-16                 [64, 8, 10, 10]           16\n",
      "│    └─ReLU: 2-17                        [64, 8, 10, 10]           --\n",
      "│    └─Conv2d: 2-18                      [64, 8, 8, 8]             584\n",
      "│    └─BatchNorm2d: 2-19                 [64, 8, 8, 8]             16\n",
      "│    └─ReLU: 2-20                        [64, 8, 8, 8]             --\n",
      "│    └─MaxPool2d: 2-21                   [64, 8, 4, 4]             --\n",
      "│    └─Conv2d: 2-22                      [64, 10, 2, 2]            730\n",
      "│    └─BatchNorm2d: 2-23                 [64, 10, 2, 2]            20\n",
      "│    └─ReLU: 2-24                        [64, 10, 2, 2]            --\n",
      "├─MultiheadAttention: 1-2                [4, 64, 10]               440\n",
      "├─LayerNorm: 1-3                         [64, 4, 10]               20\n",
      "├─BatchNorm1d: 1-4                       [64, 8]                   16\n",
      "├─Sequential: 1-5                        [64, 1]                   --\n",
      "│    └─Linear: 2-25                      [64, 16]                  784\n",
      "│    └─ReLU: 2-26                        [64, 16]                  --\n",
      "│    └─Linear: 2-27                      [64, 1]                   17\n",
      "==========================================================================================\n",
      "Total params: 3,979\n",
      "Trainable params: 3,979\n",
      "Non-trainable params: 0\n",
      "Total mult-adds (M): 73.29\n",
      "==========================================================================================\n",
      "Input size (MB): 1.85\n",
      "Forward/backward pass size (MB): 35.73\n",
      "Params size (MB): 0.01\n",
      "Estimated Total Size (MB): 37.59\n",
      "==========================================================================================\n"
     ]
    }
   ],
   "source": [
    "from torchinfo import summary\n",
    "\n",
    "if (mode == 'cnn_10') or (mode == 'cnn_32'): \n",
    "    print(\n",
    "        summary(model, input_size=(batch_size, 2, im_size, im_size))\n",
    "    )\n",
    "elif mode == 'cnn_with_features': \n",
    "    print(\n",
    "        summary(model, input_size=[(batch_size, 2, im_size, im_size), (batch_size,n_feat)] \n",
    "                )\n",
    "    )"
   ]
  },
  {
   "cell_type": "markdown",
   "id": "76e67d82",
   "metadata": {
    "papermill": {
     "duration": 0.025223,
     "end_time": "2023-08-26T12:59:06.413106",
     "exception": false,
     "start_time": "2023-08-26T12:59:06.387883",
     "status": "completed"
    },
    "tags": []
   },
   "source": [
    "# Optimizer"
   ]
  },
  {
   "cell_type": "code",
   "execution_count": 51,
   "id": "874e2226",
   "metadata": {
    "execution": {
     "iopub.execute_input": "2023-08-26T12:59:06.465587Z",
     "iopub.status.busy": "2023-08-26T12:59:06.465009Z",
     "iopub.status.idle": "2023-08-26T12:59:06.471063Z",
     "shell.execute_reply": "2023-08-26T12:59:06.470110Z"
    },
    "papermill": {
     "duration": 0.034511,
     "end_time": "2023-08-26T12:59:06.473010",
     "exception": false,
     "start_time": "2023-08-26T12:59:06.438499",
     "status": "completed"
    },
    "tags": []
   },
   "outputs": [],
   "source": [
    "loss_fn = nn.MSELoss()\n",
    "# optimizer = torch.optim.SGD(model.parameters(), lr=1e-3)\n",
    "# optimizer = torch.optim.SGD(model.parameters(), lr=0.01, momentum=0.9)         # Attention\n",
    "# optimizer = torch.optim.Adam(model.parameters(), lr=1e-3)\n",
    "optimizer = torch.optim.AdamW(model.parameters(), lr=1e-3)\n",
    "\n",
    "epochs = 250   # 500,  250  , 100                                     # Attention\n",
    "scheduler = torch.optim.lr_scheduler.OneCycleLR(optimizer, max_lr=7e-4, steps_per_epoch=len(train_dataloader), epochs=epochs)"
   ]
  },
  {
   "cell_type": "code",
   "execution_count": 52,
   "id": "3d84c05e",
   "metadata": {
    "execution": {
     "iopub.execute_input": "2023-08-26T12:59:06.525683Z",
     "iopub.status.busy": "2023-08-26T12:59:06.524828Z",
     "iopub.status.idle": "2023-08-26T12:59:06.530203Z",
     "shell.execute_reply": "2023-08-26T12:59:06.529082Z"
    },
    "papermill": {
     "duration": 0.03423,
     "end_time": "2023-08-26T12:59:06.532179",
     "exception": false,
     "start_time": "2023-08-26T12:59:06.497949",
     "status": "completed"
    },
    "tags": []
   },
   "outputs": [
    {
     "name": "stdout",
     "output_type": "stream",
     "text": [
      "\n"
     ]
    }
   ],
   "source": [
    "# model.to(torch.double)\n",
    "print()"
   ]
  },
  {
   "cell_type": "markdown",
   "id": "121c2a35",
   "metadata": {
    "papermill": {
     "duration": 0.025696,
     "end_time": "2023-08-26T12:59:06.583512",
     "exception": false,
     "start_time": "2023-08-26T12:59:06.557816",
     "status": "completed"
    },
    "tags": []
   },
   "source": [
    "# Training"
   ]
  },
  {
   "cell_type": "code",
   "execution_count": 53,
   "id": "452eb4ef",
   "metadata": {
    "execution": {
     "iopub.execute_input": "2023-08-26T12:59:06.635555Z",
     "iopub.status.busy": "2023-08-26T12:59:06.634779Z",
     "iopub.status.idle": "2023-08-26T12:59:06.642208Z",
     "shell.execute_reply": "2023-08-26T12:59:06.641295Z"
    },
    "papermill": {
     "duration": 0.035413,
     "end_time": "2023-08-26T12:59:06.644119",
     "exception": false,
     "start_time": "2023-08-26T12:59:06.608706",
     "status": "completed"
    },
    "tags": []
   },
   "outputs": [],
   "source": [
    "# the code from the example is partially used\n",
    "# https://pytorch.org/tutorials/beginner/basics/quickstart_tutorial.html\n",
    "\n",
    "def train(dataloader, model, loss_fn, optimizer):\n",
    "    size = len(dataloader.dataset)\n",
    "    model.train()\n",
    "    for batch, (img, feat, y) in enumerate(dataloader):\n",
    "        img, feat, y = img.to(device), feat.to(device), y.to(device)\n",
    "\n",
    "        # Compute prediction error\n",
    "        if mode == 'cnn_with_features':\n",
    "            pred = model(img, feat)\n",
    "        elif (mode == 'cnn_10') or (mode == 'cnn_32'):\n",
    "            pred = model(img)\n",
    "        pred = torch.squeeze(pred)\n",
    "        loss = loss_fn(pred, y)\n",
    "\n",
    "        # Backpropagation\n",
    "        optimizer.zero_grad()\n",
    "        loss.backward()\n",
    "        optimizer.step()\n",
    "        scheduler.step()"
   ]
  },
  {
   "cell_type": "code",
   "execution_count": 54,
   "id": "b60ac36e",
   "metadata": {
    "execution": {
     "iopub.execute_input": "2023-08-26T12:59:06.696806Z",
     "iopub.status.busy": "2023-08-26T12:59:06.695416Z",
     "iopub.status.idle": "2023-08-26T12:59:06.705879Z",
     "shell.execute_reply": "2023-08-26T12:59:06.705037Z"
    },
    "papermill": {
     "duration": 0.038564,
     "end_time": "2023-08-26T12:59:06.707889",
     "exception": false,
     "start_time": "2023-08-26T12:59:06.669325",
     "status": "completed"
    },
    "tags": []
   },
   "outputs": [],
   "source": [
    "# from torchmetrics.functional import r2_score as r2_torch     # strangely works for small values\n",
    "\n",
    "def evaluate(dataloader, model, mode_='test'):\n",
    "    model.eval()\n",
    "    preds = torch.empty((0,), dtype=torch.float64).to(device)\n",
    "    ys = torch.empty((0,), dtype=torch.float64).to(device)\n",
    "    \n",
    "    with torch.no_grad():\n",
    "        for img, feat, y in dataloader:\n",
    "            img, feat, y = img.to(device), feat.to(device), y.to(device)\n",
    "            \n",
    "            if mode == 'cnn_with_features':\n",
    "                pred = model(img, feat)\n",
    "            elif (mode == 'cnn_10') or (mode == 'cnn_32'):\n",
    "                pred = model(img)\n",
    "                \n",
    "            pred = torch.squeeze(pred)\n",
    "            preds = torch.cat((preds, pred))\n",
    "            ys = torch.cat((ys, y))\n",
    "    \n",
    "    preds = preds.detach().cpu().numpy()\n",
    "    ys = ys.detach().cpu().numpy()\n",
    "    \n",
    "    # - - - - - - - - - - -\n",
    "    if select_par == 'sc':\n",
    "        preds = preds / (targ_norm_coef*add_norm_for_sc)\n",
    "        if mode_ == 'train':     # for train, target multiplied by constant (small value issue)\n",
    "            ys = ys / (targ_norm_coef*add_norm_for_sc)\n",
    "    elif (select_par == 'x') or (select_par == 'y') or (select_par == 'rot'):\n",
    "        preds = preds / targ_norm_coef\n",
    "        if mode_ == 'train':\n",
    "            ys = ys / targ_norm_coef\n",
    "    # - - - - - - - - - - -\n",
    "    \n",
    "    \n",
    "    metric = r2_score(ys,preds)      # in sklean function: r2_score(true, pred)\n",
    "    \n",
    "    return metric, preds, ys\n"
   ]
  },
  {
   "cell_type": "code",
   "execution_count": 55,
   "id": "b33e8abb",
   "metadata": {
    "execution": {
     "iopub.execute_input": "2023-08-26T12:59:06.760311Z",
     "iopub.status.busy": "2023-08-26T12:59:06.758911Z",
     "iopub.status.idle": "2023-08-26T12:59:07.081303Z",
     "shell.execute_reply": "2023-08-26T12:59:07.080109Z"
    },
    "papermill": {
     "duration": 0.350643,
     "end_time": "2023-08-26T12:59:07.083555",
     "exception": false,
     "start_time": "2023-08-26T12:59:06.732912",
     "status": "completed"
    },
    "tags": []
   },
   "outputs": [
    {
     "data": {
      "text/plain": [
       "torch.Size([64, 2, 60, 60])"
      ]
     },
     "execution_count": 55,
     "metadata": {},
     "output_type": "execute_result"
    }
   ],
   "source": [
    "next(iter(train_dataloader))[0].shape"
   ]
  },
  {
   "cell_type": "code",
   "execution_count": 56,
   "id": "4354470c",
   "metadata": {
    "execution": {
     "iopub.execute_input": "2023-08-26T12:59:07.138008Z",
     "iopub.status.busy": "2023-08-26T12:59:07.137673Z",
     "iopub.status.idle": "2023-08-26T13:25:52.408562Z",
     "shell.execute_reply": "2023-08-26T13:25:52.407276Z"
    },
    "papermill": {
     "duration": 1605.301323,
     "end_time": "2023-08-26T13:25:52.411230",
     "exception": false,
     "start_time": "2023-08-26T12:59:07.109907",
     "status": "completed"
    },
    "scrolled": true,
    "tags": []
   },
   "outputs": [
    {
     "name": "stdout",
     "output_type": "stream",
     "text": [
      "Epoch 1,   valid R2 = -6.841568847351033\n",
      "Epoch 41,   valid R2 = 0.7215764700957393\n",
      "Epoch 81,   valid R2 = 0.7406620648928217\n",
      "Epoch 121,   valid R2 = 0.737032072223149\n",
      "Epoch 161,   valid R2 = 0.7487365944296115\n",
      "Epoch 201,   valid R2 = 0.7471814763333355\n",
      "Epoch 241,   valid R2 = 0.7470196530345263\n"
     ]
    }
   ],
   "source": [
    "best_metric = None\n",
    "best_epoch = None\n",
    "\n",
    "train_metric = []\n",
    "valid_metric = []\n",
    "\n",
    "t_start = time.time()\n",
    "for t in range(epochs):\n",
    "    # print(f\"Epoch {t + 1}\\n-------------------------------\")\n",
    "    \n",
    "    \n",
    "    train(train_dataloader, model, loss_fn, optimizer)\n",
    "    '''\n",
    "    metric_tr, preds_tr, ys_tr = evaluate(train_dataloader_no_aug, model, mode_='train')  # on train without aug\n",
    "    train_metric.append(metric_tr)\n",
    "    '''\n",
    "    \n",
    "    metric, preds, ys = evaluate(valid_dataloader, model)\n",
    "    valid_metric.append(metric)\n",
    "    \n",
    "    \n",
    "    if (best_metric is None) or (metric > best_metric):\n",
    "        best_metric = metric\n",
    "        # Save the model checkpoint\n",
    "        torch.save(model.state_dict(), \"/kaggle/working/best_model_checkpoint.pth\")\n",
    "        best_epoch = t\n",
    "    \n",
    "    \n",
    "    \n",
    "    if (t%40 == 0):\n",
    "        # print(f\"Epoch {t + 1}\")\n",
    "        # print(f\"Epoch {t + 1},   train R2 = {train_metric[-1]},   valid R2 = {valid_metric[-1]}\")\n",
    "        print(f\"Epoch {t + 1},   valid R2 = {valid_metric[-1]}\")\n",
    "        \n",
    "        \n",
    "        '''\n",
    "        plt.figure()\n",
    "        plt.title(f'On test, epoch = {t}')\n",
    "        plt.plot(preds[:75], label='preds')\n",
    "        plt.plot(ys[:75], label='ys')\n",
    "        plt.legend()\n",
    "        '''\n",
    "        "
   ]
  },
  {
   "cell_type": "code",
   "execution_count": 57,
   "id": "0a242b39",
   "metadata": {
    "execution": {
     "iopub.execute_input": "2023-08-26T13:25:52.466257Z",
     "iopub.status.busy": "2023-08-26T13:25:52.465885Z",
     "iopub.status.idle": "2023-08-26T13:25:52.471928Z",
     "shell.execute_reply": "2023-08-26T13:25:52.471028Z"
    },
    "papermill": {
     "duration": 0.036242,
     "end_time": "2023-08-26T13:25:52.474369",
     "exception": false,
     "start_time": "2023-08-26T13:25:52.438127",
     "status": "completed"
    },
    "tags": []
   },
   "outputs": [
    {
     "name": "stdout",
     "output_type": "stream",
     "text": [
      "\n",
      "Time, s =  1605.3253645896912     Time, hours =  0.44592371238602535\n"
     ]
    }
   ],
   "source": [
    "elapsed = time.time() - t_start\n",
    "print()\n",
    "print('Time, s = ', elapsed,  '    Time, hours = ', elapsed / 3600)"
   ]
  },
  {
   "cell_type": "code",
   "execution_count": 58,
   "id": "6da14c3b",
   "metadata": {
    "execution": {
     "iopub.execute_input": "2023-08-26T13:25:52.527415Z",
     "iopub.status.busy": "2023-08-26T13:25:52.527127Z",
     "iopub.status.idle": "2023-08-26T13:25:52.531954Z",
     "shell.execute_reply": "2023-08-26T13:25:52.531105Z"
    },
    "papermill": {
     "duration": 0.034357,
     "end_time": "2023-08-26T13:25:52.534620",
     "exception": false,
     "start_time": "2023-08-26T13:25:52.500263",
     "status": "completed"
    },
    "tags": []
   },
   "outputs": [
    {
     "name": "stdout",
     "output_type": "stream",
     "text": [
      "\n"
     ]
    }
   ],
   "source": [
    "# - - - - Time of evaluate\n",
    "\n",
    "'''\n",
    "\n",
    "t_start = time.time()\n",
    "metric_tr, preds_tr, ys_tr = evaluate(train_dataloader_no_aug, model, mode_='train')\n",
    "elapsed = time.time() - t_start\n",
    "print('Time, s = ', elapsed,  '    Time, hours = ', elapsed / 3600)\n",
    "\n",
    "t_start = time.time()\n",
    "metric, preds, ys = evaluate(valid_dataloader, model)\n",
    "elapsed = time.time() - t_start\n",
    "print('Time, s = ', elapsed,  '    Time, hours = ', elapsed / 3600)\n",
    "'''\n",
    "print()"
   ]
  },
  {
   "cell_type": "markdown",
   "id": "4f6b1e94",
   "metadata": {
    "papermill": {
     "duration": 0.026985,
     "end_time": "2023-08-26T13:25:52.588236",
     "exception": false,
     "start_time": "2023-08-26T13:25:52.561251",
     "status": "completed"
    },
    "tags": []
   },
   "source": [
    "# Train vs Test prediction"
   ]
  },
  {
   "cell_type": "code",
   "execution_count": 59,
   "id": "0354ae31",
   "metadata": {
    "execution": {
     "iopub.execute_input": "2023-08-26T13:25:52.643535Z",
     "iopub.status.busy": "2023-08-26T13:25:52.642405Z",
     "iopub.status.idle": "2023-08-26T13:25:56.735902Z",
     "shell.execute_reply": "2023-08-26T13:25:56.734597Z"
    },
    "papermill": {
     "duration": 4.123754,
     "end_time": "2023-08-26T13:25:56.738659",
     "exception": false,
     "start_time": "2023-08-26T13:25:52.614905",
     "status": "completed"
    },
    "tags": []
   },
   "outputs": [],
   "source": [
    "model = cnn().to(device)\n",
    "\n",
    "checkpoint_path = \"/kaggle/working/best_model_checkpoint.pth\"  \n",
    "model.load_state_dict(torch.load(checkpoint_path))\n",
    "\n",
    "model.eval()\n",
    "\n",
    "with torch.no_grad():\n",
    "    metric_tr, preds_tr, ys_tr = evaluate(train_dataloader_no_aug, model, mode_='train')\n",
    "    metric, preds, ys = evaluate(valid_dataloader, model)\n",
    "    metric_test, preds_test, ys_test = evaluate(test_dataloader, model)"
   ]
  },
  {
   "cell_type": "code",
   "execution_count": 60,
   "id": "63ef8134",
   "metadata": {
    "execution": {
     "iopub.execute_input": "2023-08-26T13:25:56.793880Z",
     "iopub.status.busy": "2023-08-26T13:25:56.792928Z",
     "iopub.status.idle": "2023-08-26T13:25:57.506152Z",
     "shell.execute_reply": "2023-08-26T13:25:57.505087Z"
    },
    "papermill": {
     "duration": 0.744127,
     "end_time": "2023-08-26T13:25:57.509469",
     "exception": false,
     "start_time": "2023-08-26T13:25:56.765342",
     "status": "completed"
    },
    "tags": []
   },
   "outputs": [
    {
     "data": {
      "text/plain": [
       "<matplotlib.legend.Legend at 0x7fc8b919b0a0>"
      ]
     },
     "execution_count": 60,
     "metadata": {},
     "output_type": "execute_result"
    },
    {
     "data": {
      "image/png": "[encoded data removed]",
      "text/plain": [
       "<Figure size 640x480 with 1 Axes>"
      ]
     },
     "metadata": {},
     "output_type": "display_data"
    },
    {
     "data": {
      "image/png": "[encoded data removed]",
      "text/plain": [
       "<Figure size 640x480 with 1 Axes>"
      ]
     },
     "metadata": {},
     "output_type": "display_data"
    }
   ],
   "source": [
    "# After last epoch\n",
    "n_preds = 75\n",
    "\n",
    "plt.figure()\n",
    "plt.title(f'On TRAIN, epoch BEST = {best_epoch+1}')\n",
    "plt.plot(preds_tr[:n_preds], label='preds')\n",
    "plt.plot(ys_tr[:n_preds], label='ys')\n",
    "plt.legend()\n",
    "\n",
    "plt.figure()\n",
    "plt.title(f'On TEST, epoch BEST = {best_epoch+1}')\n",
    "plt.plot(preds_test[:n_preds], label='preds')\n",
    "plt.plot(ys_test[:n_preds], label='ys')\n",
    "plt.legend()\n",
    "\n",
    "\n"
   ]
  },
  {
   "cell_type": "code",
   "execution_count": 61,
   "id": "90ce0485",
   "metadata": {
    "execution": {
     "iopub.execute_input": "2023-08-26T13:25:57.569615Z",
     "iopub.status.busy": "2023-08-26T13:25:57.569301Z",
     "iopub.status.idle": "2023-08-26T13:25:57.574376Z",
     "shell.execute_reply": "2023-08-26T13:25:57.573492Z"
    },
    "papermill": {
     "duration": 0.03756,
     "end_time": "2023-08-26T13:25:57.576500",
     "exception": false,
     "start_time": "2023-08-26T13:25:57.538940",
     "status": "completed"
    },
    "tags": []
   },
   "outputs": [
    {
     "name": "stdout",
     "output_type": "stream",
     "text": [
      "\n"
     ]
    }
   ],
   "source": [
    "# create figure for paper\n",
    "\n",
    "'''\n",
    "plt.figure(figsize = (5,1))\n",
    "plt.plot(preds_test[:n_preds], label='prediction')\n",
    "plt.plot(ys_test[:n_preds], label='true P')\n",
    "plt.xlabel('image pair number')\n",
    "plt.ylabel('P')\n",
    "plt.legend()\n",
    "\n",
    "plt.savefig('example.tiff', bbox_inches='tight')\n",
    "'''\n",
    "print()"
   ]
  },
  {
   "cell_type": "markdown",
   "id": "944a2862",
   "metadata": {
    "papermill": {
     "duration": 0.028026,
     "end_time": "2023-08-26T13:25:57.632921",
     "exception": false,
     "start_time": "2023-08-26T13:25:57.604895",
     "status": "completed"
    },
    "tags": []
   },
   "source": [
    "# History of training"
   ]
  },
  {
   "cell_type": "code",
   "execution_count": 62,
   "id": "ababb86a",
   "metadata": {
    "execution": {
     "iopub.execute_input": "2023-08-26T13:25:57.691400Z",
     "iopub.status.busy": "2023-08-26T13:25:57.690436Z",
     "iopub.status.idle": "2023-08-26T13:25:58.013805Z",
     "shell.execute_reply": "2023-08-26T13:25:58.012900Z"
    },
    "papermill": {
     "duration": 0.35446,
     "end_time": "2023-08-26T13:25:58.015794",
     "exception": false,
     "start_time": "2023-08-26T13:25:57.661334",
     "status": "completed"
    },
    "tags": []
   },
   "outputs": [
    {
     "name": "stdout",
     "output_type": "stream",
     "text": [
      "     - - best_epoch:  159\n",
      "train BEST =  0.8025432423831926\n",
      "test BEST =  0.6411396590313436\n"
     ]
    },
    {
     "data": {
      "image/png": "[encoded data removed]",
      "text/plain": [
       "<Figure size 640x480 with 1 Axes>"
      ]
     },
     "metadata": {},
     "output_type": "display_data"
    }
   ],
   "source": [
    "plt.figure()\n",
    "plt.title('R2 score')\n",
    "# plt.plot(train_metric[:], label='train')\n",
    "plt.plot(valid_metric[:], label='valid')\n",
    "\n",
    "plt.legend()\n",
    "plt.ylim((-3, 1.1)) \n",
    "\n",
    "# print('train_metric[-1] = ', train_metric[-1])\n",
    "# print('valid_metric[-1] = ', valid_metric[-1])\n",
    "\n",
    "\n",
    "print('     - - best_epoch: ', best_epoch)\n",
    "print('train BEST = ', metric_tr)\n",
    "print('test BEST = ', metric_test)"
   ]
  },
  {
   "cell_type": "code",
   "execution_count": 63,
   "id": "60dddcac",
   "metadata": {
    "execution": {
     "iopub.execute_input": "2023-08-26T13:25:58.078670Z",
     "iopub.status.busy": "2023-08-26T13:25:58.077807Z",
     "iopub.status.idle": "2023-08-26T13:25:58.083385Z",
     "shell.execute_reply": "2023-08-26T13:25:58.082383Z"
    },
    "papermill": {
     "duration": 0.040999,
     "end_time": "2023-08-26T13:25:58.086115",
     "exception": false,
     "start_time": "2023-08-26T13:25:58.045116",
     "status": "completed"
    },
    "tags": []
   },
   "outputs": [
    {
     "name": "stdout",
     "output_type": "stream",
     "text": [
      "\n"
     ]
    }
   ],
   "source": [
    "'''\n",
    "from_ = 400\n",
    "to_ = 430\n",
    "plt.figure()\n",
    "plt.title('R2 score')\n",
    "plt.plot(train_metric[from_:to_], label='train')\n",
    "plt.plot(valid_metric[from_:to_], label='valid')\n",
    "\n",
    "plt.legend()\n",
    "plt.ylim((-3, 1.1)) \n",
    "'''\n",
    "print()"
   ]
  },
  {
   "cell_type": "code",
   "execution_count": null,
   "id": "77c795df",
   "metadata": {
    "papermill": {
     "duration": 0.028419,
     "end_time": "2023-08-26T13:25:58.142950",
     "exception": false,
     "start_time": "2023-08-26T13:25:58.114531",
     "status": "completed"
    },
    "tags": []
   },
   "outputs": [],
   "source": []
  }
 ],
 "metadata": {
  "kernelspec": {
   "display_name": "Python 3",
   "language": "python",
   "name": "python3"
  },
  "language_info": {
   "codemirror_mode": {
    "name": "ipython",
    "version": 3
   },
   "file_extension": ".py",
   "mimetype": "text/x-python",
   "name": "python",
   "nbconvert_exporter": "python",
   "pygments_lexer": "ipython3",
   "version": "3.10.12"
  },
  "papermill": {
   "default_parameters": {},
   "duration": 1649.571891,
   "end_time": "2023-08-26T13:26:01.181755",
   "environment_variables": {},
   "exception": null,
   "input_path": "__notebook__.ipynb",
   "output_path": "__notebook__.ipynb",
   "parameters": {},
   "start_time": "2023-08-26T12:58:31.609864",
   "version": "2.4.0"
  }
 },
 "nbformat": 4,
 "nbformat_minor": 5
}
