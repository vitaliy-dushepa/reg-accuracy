{
 "cells": [
  {
   "cell_type": "code",
   "execution_count": 1,
   "id": "c8409704",
   "metadata": {
    "_cell_guid": "b1076dfc-b9ad-4769-8c92-a6c4dae69d19",
    "_uuid": "8f2839f25d086af736a60e9eeb907d3b93b6e0e5",
    "execution": {
     "iopub.execute_input": "2023-08-26T13:05:23.823018Z",
     "iopub.status.busy": "2023-08-26T13:05:23.822537Z",
     "iopub.status.idle": "2023-08-26T13:05:23.828379Z",
     "shell.execute_reply": "2023-08-26T13:05:23.827353Z"
    },
    "papermill": {
     "duration": 0.011085,
     "end_time": "2023-08-26T13:05:23.830040",
     "exception": false,
     "start_time": "2023-08-26T13:05:23.818955",
     "status": "completed"
    },
    "tags": []
   },
   "outputs": [],
   "source": [
    "# Utility script"
   ]
  },
  {
   "cell_type": "markdown",
   "id": "3bf01e9d",
   "metadata": {
    "papermill": {
     "duration": 0.001454,
     "end_time": "2023-08-26T13:05:23.833401",
     "exception": false,
     "start_time": "2023-08-26T13:05:23.831947",
     "status": "completed"
    },
    "tags": []
   },
   "source": [
    "# CRLB"
   ]
  },
  {
   "cell_type": "code",
   "execution_count": 2,
   "id": "6704a1e6",
   "metadata": {
    "execution": {
     "iopub.execute_input": "2023-08-26T13:05:23.838536Z",
     "iopub.status.busy": "2023-08-26T13:05:23.837573Z",
     "iopub.status.idle": "2023-08-26T13:05:24.160325Z",
     "shell.execute_reply": "2023-08-26T13:05:24.158987Z"
    },
    "papermill": {
     "duration": 0.328051,
     "end_time": "2023-08-26T13:05:24.163093",
     "exception": false,
     "start_time": "2023-08-26T13:05:23.835042",
     "status": "completed"
    },
    "tags": []
   },
   "outputs": [
    {
     "name": "stderr",
     "output_type": "stream",
     "text": [
      "/opt/conda/lib/python3.10/site-packages/scipy/__init__.py:146: UserWarning: A NumPy version >=1.16.5 and <1.23.0 is required for this version of SciPy (detected version 1.23.5\n",
      "  warnings.warn(f\"A NumPy version >={np_minversion} and <{np_maxversion}\"\n"
     ]
    }
   ],
   "source": [
    "import numpy as np\n",
    "from scipy.interpolate import RectBivariateSpline as rbs\n",
    "from scipy.misc import central_diff_weights\n",
    "# from matplotlib import pyplot as plt"
   ]
  },
  {
   "cell_type": "code",
   "execution_count": 3,
   "id": "9d739de3",
   "metadata": {
    "execution": {
     "iopub.execute_input": "2023-08-26T13:05:24.168573Z",
     "iopub.status.busy": "2023-08-26T13:05:24.168240Z",
     "iopub.status.idle": "2023-08-26T13:05:25.808993Z",
     "shell.execute_reply": "2023-08-26T13:05:25.808062Z"
    },
    "papermill": {
     "duration": 1.645925,
     "end_time": "2023-08-26T13:05:25.811228",
     "exception": false,
     "start_time": "2023-08-26T13:05:24.165303",
     "status": "completed"
    },
    "tags": []
   },
   "outputs": [],
   "source": [
    "from util_registration import similarity_transform"
   ]
  },
  {
   "cell_type": "code",
   "execution_count": 4,
   "id": "c7802cf3",
   "metadata": {
    "execution": {
     "iopub.execute_input": "2023-08-26T13:05:25.816404Z",
     "iopub.status.busy": "2023-08-26T13:05:25.816136Z",
     "iopub.status.idle": "2023-08-26T13:05:25.830822Z",
     "shell.execute_reply": "2023-08-26T13:05:25.829996Z"
    },
    "papermill": {
     "duration": 0.019831,
     "end_time": "2023-08-26T13:05:25.833114",
     "exception": false,
     "start_time": "2023-08-26T13:05:25.813283",
     "status": "completed"
    },
    "tags": []
   },
   "outputs": [],
   "source": [
    "#%% \n",
    "def  eval_riVal__for_dp(gt,ci_s,F, iPar,h):\n",
    "    '''\n",
    "    Evaluates pixel values (by ri interpolation) for diff_im__for_crlb.\n",
    "    \n",
    "    Input:\n",
    "        gt - geometric transformation parameters (center_x, center_y, scale, rotation),\n",
    "                center_x, center_y - ci (current image) center coordinates (relative to ri)\n",
    "                [rot - in degrees];\n",
    "        ci_s - size of ci;\n",
    "        F - ri-based interpolant;\n",
    "        iPar - number of the considered gt parameter (possible values: 0,1,2,3);\n",
    "        h - step for parameter grid (diff_im__for_crlb needs few values for each ci pixel for numerical defferentiation).\n",
    "    \n",
    "    Output:\n",
    "        fVals - evaluated pixel values array [size: ci_s**2 x 5],\n",
    "                number of fVals rows is equal to number ci pixels,\n",
    "                number of fVals columns is equal to the number of points (5) in parameter grid.\n",
    "    \n",
    "    Comments:\n",
    "        We consider ci to be squared.       # XXX - Attension.\n",
    "    '''\n",
    "    \n",
    "    num_diff_grid = np.arange(-2,3)\n",
    "    nP = len(num_diff_grid)\n",
    "    par_grid = gt[iPar] + num_diff_grid*h\n",
    "    \n",
    "    nInd = ci_s**2\n",
    "    fVals = np.zeros( (nInd,nP) )\n",
    "    \n",
    "    for ind in range(nP):\n",
    "        par_ = par_grid[ind]\n",
    "        gt_list = list(gt)\n",
    "        gt_list[iPar] = par_\n",
    "        gt_new = tuple(gt_list)\n",
    "        fVals[:,ind], _, _ = similarity_transform(gt_new,ci_s, F)\n",
    "    return fVals\n",
    "\n",
    "\n",
    "\n",
    "#%% \n",
    "def  diff_im__for_crlb(ri,gt,ci_s):\n",
    "    '''\n",
    "    Numerically computes image derivatives at given coordinates relative to ri (using interpolation)\n",
    "        [compute partial derivatives relative to \"4 gt parameters\"].\n",
    "    \n",
    "    Input:\n",
    "        ri - given (reference) image;\n",
    "        gt - geometric transformation parameters (center_x, center_y, scale, rotation),\n",
    "                center_x, center_y - ci (current image) center coordinates (relative to ri)\n",
    "                [rot - in degrees];\n",
    "        ci_s - size of ci.\n",
    "    \n",
    "    Output:\n",
    "        Px - partial derivatives (with respect to center_x) for all given coordinates\n",
    "                [coordinates (ci pixels coordinates relative to ri grid) are determined by gt and ci_s];\n",
    "        Py - partial derivatives (with respect to center_y) for all given coordinates;\n",
    "        Ps - partial derivatives (with respect to scale) for all given coordinates;\n",
    "        Pa - partial derivatives (with respect to rotation) for all given coordinates.\n",
    "    \n",
    "    Comments:\n",
    "        We consider ri and ci be squared.       # XXX - Attension.\n",
    "        Px, Py, Ps, Pa are vectors (for flattened 2D grid) of equal length.\n",
    "    '''\n",
    "   \n",
    "    \n",
    "    ri_s = np.shape(ri)[0]\n",
    "    F = rbs(np.arange(ri_s), np.arange(ri_s), ri)\n",
    "    \n",
    "    \n",
    "    h_list = [0.03, 0.03, 0.005, 0.05];     # Steps for num differentiation.\n",
    "    nPar = len(h_list)\n",
    "    \n",
    "    nInd = ci_s**2\n",
    "    P_matr = np.zeros( (nInd,nPar) )\n",
    "    for iPar in range(nPar):\n",
    "        h = h_list[iPar]\n",
    "        fVals = eval_riVal__for_dp(gt,ci_s,F, iPar,h)\n",
    "        nP = fVals.shape[1]\n",
    "        \n",
    "        for ind in range(nInd):\n",
    "            fv = fVals[ind,:]\n",
    "            P_matr[ind,iPar] = np.sum(fv * central_diff_weights(nP)) / h\n",
    "            \n",
    "    Px = P_matr[:,0]\n",
    "    Py = P_matr[:,1]\n",
    "    Ps = P_matr[:,2]\n",
    "    Pa = P_matr[:,3]\n",
    "\n",
    "    return Px, Py, Ps, Pa\n",
    "\n",
    "\n",
    "\n",
    "#%%\n",
    "def crlb__by_RI_interp(ri,gt,\n",
    "                       ci_s,sigm):\n",
    "    '''\n",
    "    CRLB on ri evaluation\n",
    "        [CRLB by Yetic, Nehorai, “Performance Bounds on Image Registration”, 2006 \n",
    "         direct 2.58 implementation]\n",
    "    \n",
    "    Input:\n",
    "        ri - reference image;\n",
    "        gt - geometric transformation parameters (center_x, center_y, scale, rotation),\n",
    "                center_x, center_y - ci center coordinates (relative to ri);\n",
    "        ci_s - size of ci (current image);\n",
    "        sigm - noise standard deviation (SD).\n",
    "    \n",
    "    Output:\n",
    "        crlb - estimates for parameters errors SD (4 elements);\n",
    "        cov_feature - covarience matrix estimate without (1/sigm**2) factor\n",
    "                        (for feature creation to machine learning).\n",
    "    \n",
    "    Comments:\n",
    "        We consider ci and ri squared.       # XXX - Attension.\n",
    "    '''\n",
    "  \n",
    "    Px, Py, Ps, Pa  = diff_im__for_crlb(ri,gt,ci_s)\n",
    "    \n",
    "    \n",
    "    #%%\n",
    "    # For simplicity\n",
    "    c = 1/sigm**2\n",
    "    \n",
    "    #%% Fisher matrix without coef [c = 1/sigm**2].\n",
    "    Jaa = np.sum(Pa * Pa)\n",
    "    Jas = np.sum(Pa * Ps)\n",
    "    Jax = np.sum(Pa * Px)\n",
    "    Jay = np.sum(Pa * Py)\n",
    "    Jss = np.sum(Ps * Ps)\n",
    "    Jsx = np.sum(Ps * Px)\n",
    "    Jsy = np.sum(Ps * Py)\n",
    "    Jxx = np.sum(Px * Px)\n",
    "    Jyy = np.sum(Py * Py)\n",
    "    Jxy = np.sum(Px * Py)\n",
    "    \n",
    "    \n",
    "    FIM = c * np.array([ [Jxx, Jxy, Jsx, Jax],\n",
    "                         [Jxy, Jyy, Jsy, Jay],\n",
    "                         [Jsx, Jsy, Jss, Jas],\n",
    "                         [Jax, Jay, Jas, Jaa] ]\n",
    "                       )\n",
    "    \n",
    "    #%%\n",
    "    try:\n",
    "        covM = np.linalg.inv(FIM)\n",
    "    except np.linalg.LinAlgError:\n",
    "        print()\n",
    "        print('------ Maybe singular matrix -------')\n",
    "        print()\n",
    "        covM = np.nan * np.ones( (4,4) )\n",
    "\n",
    "    \n",
    "    #%%\n",
    "    # For feature creation to machine learning.\n",
    "    cov_feature = c * covM\n",
    "    \n",
    "    crlb = np.sqrt( np.diag(covM) )\n",
    "    return crlb, cov_feature"
   ]
  }
 ],
 "metadata": {
  "kernelspec": {
   "display_name": "Python 3",
   "language": "python",
   "name": "python3"
  },
  "language_info": {
   "codemirror_mode": {
    "name": "ipython",
    "version": 3
   },
   "file_extension": ".py",
   "mimetype": "text/x-python",
   "name": "python",
   "nbconvert_exporter": "python",
   "pygments_lexer": "ipython3",
   "version": "3.10.12"
  },
  "papermill": {
   "default_parameters": {},
   "duration": 10.321626,
   "end_time": "2023-08-26T13:05:26.654530",
   "environment_variables": {},
   "exception": null,
   "input_path": "__notebook__.ipynb",
   "output_path": "__notebook__.ipynb",
   "parameters": {},
   "start_time": "2023-08-26T13:05:16.332904",
   "version": "2.4.0"
  }
 },
 "nbformat": 4,
 "nbformat_minor": 5
}
