{
 "cells": [
  {
   "cell_type": "code",
   "execution_count": 1,
   "id": "ff3cd446",
   "metadata": {
    "_cell_guid": "b1076dfc-b9ad-4769-8c92-a6c4dae69d19",
    "_uuid": "8f2839f25d086af736a60e9eeb907d3b93b6e0e5",
    "execution": {
     "iopub.execute_input": "2023-08-26T13:04:50.588343Z",
     "iopub.status.busy": "2023-08-26T13:04:50.587461Z",
     "iopub.status.idle": "2023-08-26T13:04:50.592564Z",
     "shell.execute_reply": "2023-08-26T13:04:50.591783Z"
    },
    "papermill": {
     "duration": 0.015267,
     "end_time": "2023-08-26T13:04:50.597241",
     "exception": false,
     "start_time": "2023-08-26T13:04:50.581974",
     "status": "completed"
    },
    "tags": []
   },
   "outputs": [],
   "source": [
    "# Utility script"
   ]
  },
  {
   "cell_type": "markdown",
   "id": "873a22b3",
   "metadata": {
    "papermill": {
     "duration": 0.002163,
     "end_time": "2023-08-26T13:04:50.602185",
     "exception": false,
     "start_time": "2023-08-26T13:04:50.600022",
     "status": "completed"
    },
    "tags": []
   },
   "source": [
    "# features"
   ]
  },
  {
   "cell_type": "code",
   "execution_count": 2,
   "id": "409ab600",
   "metadata": {
    "execution": {
     "iopub.execute_input": "2023-08-26T13:04:50.609321Z",
     "iopub.status.busy": "2023-08-26T13:04:50.608229Z",
     "iopub.status.idle": "2023-08-26T13:04:50.619219Z",
     "shell.execute_reply": "2023-08-26T13:04:50.618101Z"
    },
    "papermill": {
     "duration": 0.01749,
     "end_time": "2023-08-26T13:04:50.621985",
     "exception": false,
     "start_time": "2023-08-26T13:04:50.604495",
     "status": "completed"
    },
    "tags": []
   },
   "outputs": [],
   "source": [
    "import numpy as np"
   ]
  },
  {
   "cell_type": "code",
   "execution_count": 3,
   "id": "f9f6ec54",
   "metadata": {
    "execution": {
     "iopub.execute_input": "2023-08-26T13:04:50.629952Z",
     "iopub.status.busy": "2023-08-26T13:04:50.629203Z",
     "iopub.status.idle": "2023-08-26T13:04:50.636705Z",
     "shell.execute_reply": "2023-08-26T13:04:50.635850Z"
    },
    "papermill": {
     "duration": 0.01446,
     "end_time": "2023-08-26T13:04:50.639328",
     "exception": false,
     "start_time": "2023-08-26T13:04:50.624868",
     "status": "completed"
    },
    "tags": []
   },
   "outputs": [],
   "source": [
    "def max_diff(A):\n",
    "    '''\n",
    "    Evaluate max differences along X and Y axes (for normalized image A).\n",
    "    \n",
    "    Input:\n",
    "        A - 2D image.\n",
    "    Output:\n",
    "        mdx, mdy - differences along X and Y axes.\n",
    "    '''    \n",
    "    \n",
    "    # Normalize image (!?).\n",
    "    A = ( A-np.mean(A) ) / np.std(A,ddof=1)\n",
    "    \n",
    "    A_diff_x = np.diff(A,axis=0)\n",
    "    A_diff_y = np.diff(A.T,axis=0)\n",
    "    mdx = np.amax( np.absolute( A_diff_x ) )\n",
    "    mdy = np.amax( np.absolute( A_diff_y ) )\n",
    "    return mdx,mdy"
   ]
  },
  {
   "cell_type": "code",
   "execution_count": 4,
   "id": "d19cce7d",
   "metadata": {
    "execution": {
     "iopub.execute_input": "2023-08-26T13:04:50.647401Z",
     "iopub.status.busy": "2023-08-26T13:04:50.646743Z",
     "iopub.status.idle": "2023-08-26T13:04:50.660238Z",
     "shell.execute_reply": "2023-08-26T13:04:50.659038Z"
    },
    "papermill": {
     "duration": 0.020965,
     "end_time": "2023-08-26T13:04:50.663268",
     "exception": false,
     "start_time": "2023-08-26T13:04:50.642303",
     "status": "completed"
    },
    "tags": []
   },
   "outputs": [],
   "source": [
    "def spectral_width(A):\n",
    "    '''\n",
    "    Evaluate measures of image spectral width.\n",
    "    \n",
    "    Input:\n",
    "        A - 2D image.\n",
    "    Output:\n",
    "        widx, widy - spectral width measures.\n",
    "    Comments:\n",
    "        matrix A may be not squared;\n",
    "        A sizes may be odd or even.\n",
    "    '''\n",
    "    \n",
    "    \n",
    "    # Normalize image.\n",
    "    A = ( A-np.mean(A) ) / np.std(A,ddof=1)\n",
    "\n",
    "    \n",
    "    Aw = np.fft.fft2(A)\n",
    "    abs_Aw = np.absolute( np.fft.fftshift(Aw) )\n",
    "    \n",
    "    n,m = abs_Aw.shape\n",
    "    \n",
    "    \n",
    "    #%%\n",
    "    N = n*m\n",
    "    \n",
    "    if n%2 == 1:        # n is odd case.\n",
    "        col_w = np.r_[ -(n-1)/2 : (n-1)/2 +1]\n",
    "    else:               # n is even case.\n",
    "        col_w = np.r_[ -n/2 : (n-2)/2 +1 ]\n",
    "    \n",
    "    col_w = col_w/n\n",
    "    col_W = np.tile(col_w[:,np.newaxis], (1,m) )\n",
    "    col_W = np.absolute(col_W)\n",
    "    \n",
    "    \n",
    "    if m%2 == 1:        # m is odd case. \n",
    "        row_w = np.r_[ -(m-1)/2 : (m-1)/2 +1]\n",
    "    else:               # m is even case.\n",
    "        row_w = np.r_[ -m/2 : (m-2)/2 +1 ]\n",
    "\n",
    "    row_w = row_w/m\n",
    "    row_W = np.tile(row_w[np.newaxis,:], (n,1) )\n",
    "    row_W = np.absolute(row_W)\n",
    "    \n",
    "    \n",
    "    #%%\n",
    "    sum_abs_Aw =  np.sum(abs_Aw)\n",
    "    \n",
    "    widx = abs_Aw * col_W\n",
    "    widx = np.ones([1,N]).dot( widx.flatten(order = 'F') ) / sum_abs_Aw\n",
    "    \n",
    "    widy = abs_Aw * row_W\n",
    "    widy = np.ones([1,N]).dot( widy.flatten(order = 'F') ) / sum_abs_Aw\n",
    "    \n",
    "    # Convert to scalar.\n",
    "    widx = widx[0]\n",
    "    widy = widy[0]\n",
    "    \n",
    "    return widx, widy"
   ]
  }
 ],
 "metadata": {
  "kernelspec": {
   "display_name": "Python 3",
   "language": "python",
   "name": "python3"
  },
  "language_info": {
   "codemirror_mode": {
    "name": "ipython",
    "version": 3
   },
   "file_extension": ".py",
   "mimetype": "text/x-python",
   "name": "python",
   "nbconvert_exporter": "python",
   "pygments_lexer": "ipython3",
   "version": "3.10.12"
  },
  "papermill": {
   "default_parameters": {},
   "duration": 12.205301,
   "end_time": "2023-08-26T13:04:51.490445",
   "environment_variables": {},
   "exception": null,
   "input_path": "__notebook__.ipynb",
   "output_path": "__notebook__.ipynb",
   "parameters": {},
   "start_time": "2023-08-26T13:04:39.285144",
   "version": "2.4.0"
  }
 },
 "nbformat": 4,
 "nbformat_minor": 5
}
